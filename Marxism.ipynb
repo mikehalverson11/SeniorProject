{
 "cells": [
  {
   "cell_type": "markdown",
   "metadata": {},
   "source": [
    "# Data Import"
   ]
  },
  {
   "cell_type": "code",
   "execution_count": 193,
   "metadata": {
    "collapsed": false
   },
   "outputs": [],
   "source": [
    "from bs4 import BeautifulSoup\n",
    "from requests import get\n",
    "from requests.exceptions import RequestException\n",
    "from contextlib import closing\n",
    "import string\n",
    "import pandas as pd\n",
    "import numpy as np\n",
    "import matplotlib.pyplot as plt\n",
    "%matplotlib inline"
   ]
  },
  {
   "cell_type": "code",
   "execution_count": 5,
   "metadata": {
    "collapsed": true
   },
   "outputs": [],
   "source": [
    "def simple_get(url):\n",
    "    \"\"\"\n",
    "    Attempts to get the content at `url` by making an HTTP GET request.\n",
    "    If the content-type of response is some kind of HTML/XML, return the\n",
    "    text content, otherwise return None\n",
    "    \"\"\"\n",
    "    try:\n",
    "        with closing(get(url, stream=True)) as resp:\n",
    "            if is_good_response(resp):\n",
    "                return resp.content\n",
    "            else:\n",
    "                return None\n",
    "\n",
    "    except RequestException as e:\n",
    "        log_error('Error during requests to {0} : {1}'.format(url, str(e)))\n",
    "        return None\n",
    "\n",
    "\n",
    "def is_good_response(resp):\n",
    "    \"\"\"\n",
    "    Returns true if the response seems to be HTML, false otherwise\n",
    "    \"\"\"\n",
    "    content_type = resp.headers['Content-Type'].lower()\n",
    "    return (resp.status_code == 200 \n",
    "            and content_type is not None \n",
    "            and content_type.find('html') > -1)\n",
    "\n",
    "\n",
    "def log_error(e):\n",
    "    \"\"\"\n",
    "    It is always a good idea to log errors. \n",
    "    This function just prints them, but you can\n",
    "    make it do anything.\n",
    "    \"\"\"\n",
    "    print(e)"
   ]
  },
  {
   "cell_type": "code",
   "execution_count": 6,
   "metadata": {
    "collapsed": true
   },
   "outputs": [],
   "source": [
    "def normalize_words(text):\n",
    "    words = text.split()\n",
    "    norm_words = []\n",
    "    for word in words:\n",
    "        lastChar = len(word) - 1 \n",
    "        if word[0] in (\"#\",\"@\",\"(\",\"$\",\"'\", '\"',\"[]\") or word[0].isdigit():\n",
    "            continue\n",
    "        if word[lastChar].isdigit() or (word[lastChar] in string.punctuation):\n",
    "            continue\n",
    "        norm_words.append(word.lower().rstrip(string.punctuation))\n",
    "    return norm_words"
   ]
  },
  {
   "cell_type": "code",
   "execution_count": 11,
   "metadata": {
    "collapsed": false
   },
   "outputs": [],
   "source": [
    "#link='http://www.mlwerke.de/me/'\n",
    "links=[\"https://de.wikisource.org/wiki/Manifest_der_Kommunistischen_Partei_(1848)\",\n",
    "      \"https://de.wikisource.org/wiki/Zur_Judenfrage\",\n",
    "      \"https://de.wikisource.org/wiki/Zur_Kritik_der_Hegel%E2%80%99schen_Rechtsphilosophie\",\n",
    "      \"https://de.wikisource.org/wiki/Thesen_%C3%BCber_Feuerbach\",\n",
    "       \"http://gutenberg.spiegel.de/buch/lohnarbeit-und-kapital-4977/1\",\n",
    "       \"http://gutenberg.spiegel.de/buch/zur-kritik-der-politischen-4976/1\",\n",
    "       \"http://gutenberg.spiegel.de/buch/lohn-preis-und-profit-4981/1\",\n",
    "       \"http://gutenberg.spiegel.de/buch/das-elend-der-philosophie-9092/2\",\n",
    "       \"http://gutenberg.spiegel.de/buch/das-elend-der-philosophie-9092/3\",\n",
    "       \"http://gutenberg.spiegel.de/buch/das-elend-der-philosophie-9092/4\",\n",
    "       \"http://gutenberg.spiegel.de/buch/das-elend-der-philosophie-9092/5\",\n",
    "      \"https://de.wikisource.org/wiki/Die_Lage_Englands\",\n",
    "      \"https://de.wikisource.org/wiki/Umrisse_zu_einer_Kritik_der_National%C3%B6konomie\",\n",
    "      \"http://gutenberg.spiegel.de/buch/die-entwicklung-des-sozialismus-von-der-utopie-zur-wissenschaft-5096/1\",\n",
    "      \"http://gutenberg.spiegel.de/buch/revolution-und-konterrevolution-in-deutschland-5091/1\",\n",
    "      \"http://gutenberg.spiegel.de/buch/anteil-der-arbeit-an-der-menschwerdung-des-affen-5093/1\",\n",
    "#      \"http://gutenberg.spiegel.de/buch/zur-wohnungsfrage-5094/1\",\n",
    "      \"http://gutenberg.spiegel.de/buch/der-ursprung-der-familie-des-privateigenthums-und-des-staats-10104/2\",\n",
    "      \"http://gutenberg.spiegel.de/buch/der-ursprung-der-familie-des-privateigenthums-und-des-staats-10104/3\",\n",
    "      \"http://gutenberg.spiegel.de/buch/der-ursprung-der-familie-des-privateigenthums-und-des-staats-10104/4\",\n",
    "      \"http://gutenberg.spiegel.de/buch/der-ursprung-der-familie-des-privateigenthums-und-des-staats-10104/5\",\n",
    "      \"http://gutenberg.spiegel.de/buch/der-ursprung-der-familie-des-privateigenthums-und-des-staats-10104/6\"]\n",
    "authors=[\"Marx/Engels\",\"Marx1\",\"Marx2\",\"Marx3\",\"Marx4\",\"Marx5\",\"Marx6\",\"Marx7\",\"Marx8\",\"Marx9\", \"Marx10\",\n",
    "         \"Engels1\",\"Engels2\",\"Engels3\",\"Engels4\",\"Engels5\",\"Engels6\",\"Engels7\",\"Engels8\",\"Engels9\",\"Engels10\",\"Engels11\"]\n",
    "authors2=[\"Marx/Engels\",\"Marx\",\"Marx\",\"Marx\",\"Marx\",\"Marx\",\"Marx\",\"Marx\",\"Marx\",\"Marx\",\"Marx\",\n",
    "         \"Engels\",\"Engels\",\"Engels\",\"Engels\",\"Engels\",\"Engels\",\"Engels\",\"Engels\",\"Engels\",\"Engels\"]\n",
    "#raw_html = simple_get(link)\n",
    "#html = BeautifulSoup(raw_html, 'html.parser')"
   ]
  },
  {
   "cell_type": "code",
   "execution_count": 8,
   "metadata": {
    "collapsed": false
   },
   "outputs": [
    {
     "name": "stdout",
     "output_type": "stream",
     "text": [
      "https://de.wikisource.org/wiki/Manifest_der_Kommunistischen_Partei_(1848)\n",
      "https://de.wikisource.org/wiki/Zur_Judenfrage\n",
      "https://de.wikisource.org/wiki/Zur_Kritik_der_Hegel%E2%80%99schen_Rechtsphilosophie\n",
      "https://de.wikisource.org/wiki/Thesen_%C3%BCber_Feuerbach\n",
      "http://gutenberg.spiegel.de/buch/lohnarbeit-und-kapital-4977/1\n",
      "http://gutenberg.spiegel.de/buch/zur-kritik-der-politischen-4976/1\n",
      "http://gutenberg.spiegel.de/buch/lohn-preis-und-profit-4981/1\n",
      "http://gutenberg.spiegel.de/buch/das-elend-der-philosophie-9092/2\n",
      "http://gutenberg.spiegel.de/buch/das-elend-der-philosophie-9092/3\n",
      "http://gutenberg.spiegel.de/buch/das-elend-der-philosophie-9092/4\n",
      "http://gutenberg.spiegel.de/buch/das-elend-der-philosophie-9092/5\n",
      "https://de.wikisource.org/wiki/Die_Lage_Englands\n",
      "https://de.wikisource.org/wiki/Umrisse_zu_einer_Kritik_der_National%C3%B6konomie\n",
      "http://gutenberg.spiegel.de/buch/die-entwicklung-des-sozialismus-von-der-utopie-zur-wissenschaft-5096/1\n",
      "http://gutenberg.spiegel.de/buch/revolution-und-konterrevolution-in-deutschland-5091/1\n",
      "http://gutenberg.spiegel.de/buch/anteil-der-arbeit-an-der-menschwerdung-des-affen-5093/1\n",
      "http://gutenberg.spiegel.de/buch/der-ursprung-der-familie-des-privateigenthums-und-des-staats-10104/2\n",
      "http://gutenberg.spiegel.de/buch/der-ursprung-der-familie-des-privateigenthums-und-des-staats-10104/3\n",
      "http://gutenberg.spiegel.de/buch/der-ursprung-der-familie-des-privateigenthums-und-des-staats-10104/4\n",
      "http://gutenberg.spiegel.de/buch/der-ursprung-der-familie-des-privateigenthums-und-des-staats-10104/5\n",
      "http://gutenberg.spiegel.de/buch/der-ursprung-der-familie-des-privateigenthums-und-des-staats-10104/6\n"
     ]
    }
   ],
   "source": [
    "text=\"\"\n",
    "fulltext=[]\n",
    "vocabs=[]\n",
    "for link in links:\n",
    "    print(link)\n",
    "    raw_html = simple_get(link)\n",
    "    html = BeautifulSoup(raw_html, 'html.parser')\n",
    "    text=\"\"\n",
    "    for p in html.select('p'):\n",
    "        text+=p.text\n",
    "        fulltext=fulltext+normalize_words(text)\n",
    "    vocab={}\n",
    "    for word in text.split():\n",
    "        if word[0] in (\"#\",\"@\",\"(\",\"$\",\"'\", '\"',\"[]\") or word[0].isdigit():\n",
    "            continue\n",
    "        word=word.lower().rstrip(string.punctuation+\"«\").lstrip(string.punctuation+\"«\")\n",
    "        if len(word.split(\".\"))>1:\n",
    "            for splitted in word.split(\".\"):\n",
    "                if splitted in vocab:\n",
    "                    vocab[splitted]+=1\n",
    "                else:\n",
    "                    vocab[splitted]=1\n",
    "        else:\n",
    "            if word in vocab:\n",
    "                vocab[word]+=1\n",
    "            else:\n",
    "                vocab[word]=1\n",
    "    vocabs.append(vocab)\n",
    "unique={}\n",
    "for word in fulltext:\n",
    "    unique[word]=1\n",
    "fulltext\n",
    "vocab['seiner']=2"
   ]
  },
  {
   "cell_type": "code",
   "execution_count": 9,
   "metadata": {
    "collapsed": false
   },
   "outputs": [],
   "source": [
    "test=pd.DataFrame(index=unique).reset_index()\n",
    "i=0\n",
    "for voc in vocabs:\n",
    "    #print(i)\n",
    "    test[authors[i]]=test['index'].map(voc)\n",
    "    i+=1\n",
    "#test['CommunistMan']=test['index'].map(vocab)\n",
    "df=test.fillna(0).set_index('index').T\n",
    "#df"
   ]
  },
  {
   "cell_type": "code",
   "execution_count": 10,
   "metadata": {
    "collapsed": false
   },
   "outputs": [
    {
     "data": {
      "text/plain": [
       "Marx/Engels     9344.0\n",
       "Marx1          10640.0\n",
       "Marx2           4956.0\n",
       "Marx3              0.0\n",
       "Marx4          18851.0\n",
       "Marx5           3057.0\n",
       "Marx6            636.0\n",
       "Marx7           1262.0\n",
       "Marx8           9582.0\n",
       "Marx9           9076.0\n",
       "Marx10          5326.0\n",
       "Engels1        10172.0\n",
       "Engels2         9877.0\n",
       "Engels3         8716.0\n",
       "Engels4         6454.0\n",
       "Engels5         8954.0\n",
       "Engels6         9403.0\n",
       "Engels7         3789.0\n",
       "Engels8        35429.0\n",
       "Engels9         9474.0\n",
       "Engels10        5772.0\n",
       "dtype: float64"
      ]
     },
     "execution_count": 10,
     "metadata": {},
     "output_type": "execute_result"
    }
   ],
   "source": [
    "# bug needs to be fixed here\n",
    "df.sum(axis=1)"
   ]
  },
  {
   "cell_type": "code",
   "execution_count": 12,
   "metadata": {
    "collapsed": false
   },
   "outputs": [],
   "source": [
    "#df=df.reset_index()\n",
    "#df=df.rename(index=str,columns={'index':'Author'})\n",
    "df['Author']=authors2"
   ]
  },
  {
   "cell_type": "code",
   "execution_count": 13,
   "metadata": {
    "collapsed": false
   },
   "outputs": [],
   "source": [
    "sumtotal=df.groupby('Author').sum()\n",
    "sumtotal=sumtotal.sum(axis=1)\n",
    "grouped=df.groupby('Author').sum()\n",
    "pwa=grouped"
   ]
  },
  {
   "cell_type": "code",
   "execution_count": 14,
   "metadata": {
    "collapsed": false
   },
   "outputs": [],
   "source": [
    "pwa.loc['Marx']=pwa.loc['Marx']/sumtotal.loc['Marx']\n",
    "pwa.loc['Engels']=pwa.loc['Engels']/sumtotal.loc['Engels']\n",
    "pwa.loc['Marx/Engels']=pwa.loc['Marx/Engels']/sumtotal.loc['Marx/Engels']"
   ]
  },
  {
   "cell_type": "code",
   "execution_count": 15,
   "metadata": {
    "collapsed": false
   },
   "outputs": [],
   "source": [
    "unknowns=df.loc[\"Marx/Engels\"].drop(\"Author\")\n",
    "#pwa=pwa.drop(['Marx/Engels']).replace(0,.0000001)\n",
    "pwa=pwa.replace(0,.0000001)"
   ]
  },
  {
   "cell_type": "code",
   "execution_count": 16,
   "metadata": {
    "collapsed": false
   },
   "outputs": [],
   "source": [
    "unknowns=pd.DataFrame(unknowns).T"
   ]
  },
  {
   "cell_type": "code",
   "execution_count": 17,
   "metadata": {
    "collapsed": false
   },
   "outputs": [],
   "source": [
    "stops=\"\"\"aber\n",
    "als\n",
    "am\n",
    "an\n",
    "auch\n",
    "auf\n",
    "aus\n",
    "bei\n",
    "bin\n",
    "bis\n",
    "bist\n",
    "da\n",
    "dadurch\n",
    "daher\n",
    "darum\n",
    "das\n",
    "daß\n",
    "dass\n",
    "dein\n",
    "deine\n",
    "dem\n",
    "den\n",
    "der\n",
    "des\n",
    "dessen\n",
    "deshalb\n",
    "die\n",
    "dies\n",
    "dieser\n",
    "dieses\n",
    "doch\n",
    "dort\n",
    "du\n",
    "durch\n",
    "ein\n",
    "eine\n",
    "einem\n",
    "einen\n",
    "einer\n",
    "eines\n",
    "er\n",
    "es\n",
    "euer\n",
    "eure\n",
    "für\n",
    "hatte\n",
    "hatten\n",
    "hattest\n",
    "hattet\n",
    "hier\n",
    "hinter\n",
    "ich\n",
    "ihr\n",
    "ihre\n",
    "im\n",
    "in\n",
    "ist\n",
    "ja\n",
    "jede\n",
    "jedem\n",
    "jeden\n",
    "jeder\n",
    "jedes\n",
    "jener\n",
    "jenes\n",
    "jetzt\n",
    "kann\n",
    "kannst\n",
    "können\n",
    "könnt\n",
    "machen\n",
    "mein\n",
    "meine\n",
    "mit\n",
    "muß\n",
    "mußt\n",
    "musst\n",
    "müssen\n",
    "müßt\n",
    "nach\n",
    "nachdem\n",
    "nein\n",
    "nicht\n",
    "nun\n",
    "oder\n",
    "seid\n",
    "sein\n",
    "seine\n",
    "sich\n",
    "sie\n",
    "sind\n",
    "soll\n",
    "sollen\n",
    "sollst\n",
    "sollt\n",
    "sonst\n",
    "soweit\n",
    "sowie\n",
    "und\n",
    "unser\n",
    "unsere\n",
    "unter\n",
    "vom\n",
    "von\n",
    "vor\n",
    "wann\n",
    "warum\n",
    "was\n",
    "weiter\n",
    "weitere\n",
    "wenn\n",
    "wer\n",
    "werde\n",
    "werden\n",
    "werdet\n",
    "weshalb\n",
    "wie\n",
    "wieder\n",
    "wieso\n",
    "wir\n",
    "wird\n",
    "wirst\n",
    "wo\n",
    "woher\n",
    "wohin\n",
    "zu\n",
    "zum\n",
    "zur\n",
    "über\"\"\""
   ]
  },
  {
   "cell_type": "code",
   "execution_count": 18,
   "metadata": {
    "collapsed": true
   },
   "outputs": [],
   "source": [
    "stopwords2=[\"der\",\"die\",\"das\",\"und\",\"sein\",\"in\",\"ein\",\"zu\",\"haben\",\"ich\",\"werden\",\"sie\",\"von\",\"nicht\",\"mit\", \n",
    "\"es\",\"sich\",\"auch\",\"auf\",\"für\",\"an\",\"er\",\n",
    "\"so\",\"dass\",\"können\",\"dies\",\"als\"]"
   ]
  },
  {
   "cell_type": "code",
   "execution_count": 19,
   "metadata": {
    "collapsed": true
   },
   "outputs": [],
   "source": [
    "stopwords=[]\n",
    "for words in stops.split():\n",
    "    stopwords.append(words)"
   ]
  },
  {
   "cell_type": "code",
   "execution_count": 110,
   "metadata": {
    "collapsed": false
   },
   "outputs": [],
   "source": [
    "def EM_Algo_LA(numTopics,pwapass,documentpass):\n",
    "    j=0\n",
    "    guess=[]\n",
    "    ptd=[]\n",
    "    for i in range(numTopics):\n",
    "        guess.append(1/numTopics)\n",
    "    for k in range(documentpass.shape[0]):\n",
    "        ptd.append(guess)\n",
    "    ptd=pd.DataFrame(ptd)\n",
    "    ptd.index=documentpass.index\n",
    "    B=pwapass\n",
    "    N=documentpass\n",
    "    print(j)\n",
    "    while j<150:\n",
    "        if j!=0:\n",
    "            ptd=newguess.copy().T\n",
    "        j+=1\n",
    "        A=ptd\n",
    "        #print(A.shape,B.shape)\n",
    "        BA=np.dot(B.T,A.T)\n",
    "        #print(BA.shape)\n",
    "        #print(pd.DataFrame(BA).shape,pd.DataFrame(N).shape)\n",
    "        #return(BA)\n",
    "        NBA=(pd.DataFrame(N).T)/BA\n",
    "        #print(A.shape,np.dot(B,NBA).shape)\n",
    "        newguess=A.T*np.dot(B,NBA)\n",
    "        newguess=newguess/newguess.sum(axis=0)\n",
    "    return(newguess)"
   ]
  },
  {
   "cell_type": "code",
   "execution_count": null,
   "metadata": {
    "collapsed": false
   },
   "outputs": [],
   "source": []
  },
  {
   "cell_type": "code",
   "execution_count": 25,
   "metadata": {
    "collapsed": false
   },
   "outputs": [
    {
     "name": "stdout",
     "output_type": "stream",
     "text": [
      "0\n"
     ]
    },
    {
     "data": {
      "text/html": [
       "<div>\n",
       "<table border=\"1\" class=\"dataframe\">\n",
       "  <thead>\n",
       "    <tr style=\"text-align: right;\">\n",
       "      <th></th>\n",
       "      <th>Marx/Engels</th>\n",
       "    </tr>\n",
       "  </thead>\n",
       "  <tbody>\n",
       "    <tr>\n",
       "      <th>0</th>\n",
       "      <td>0.503629</td>\n",
       "    </tr>\n",
       "    <tr>\n",
       "      <th>1</th>\n",
       "      <td>0.496371</td>\n",
       "    </tr>\n",
       "  </tbody>\n",
       "</table>\n",
       "</div>"
      ],
      "text/plain": [
       "  Marx/Engels\n",
       "0    0.503629\n",
       "1    0.496371"
      ]
     },
     "execution_count": 25,
     "metadata": {},
     "output_type": "execute_result"
    }
   ],
   "source": [
    "EM_Algo_LA(2,pwa.drop(\"Marx/Engels\"),unknowns)"
   ]
  },
  {
   "cell_type": "code",
   "execution_count": 26,
   "metadata": {
    "collapsed": false
   },
   "outputs": [
    {
     "name": "stdout",
     "output_type": "stream",
     "text": [
      "0\n"
     ]
    },
    {
     "data": {
      "text/html": [
       "<div>\n",
       "<table border=\"1\" class=\"dataframe\">\n",
       "  <thead>\n",
       "    <tr style=\"text-align: right;\">\n",
       "      <th></th>\n",
       "      <th>Marx/Engels</th>\n",
       "    </tr>\n",
       "  </thead>\n",
       "  <tbody>\n",
       "    <tr>\n",
       "      <th>0</th>\n",
       "      <td>0.619145</td>\n",
       "    </tr>\n",
       "    <tr>\n",
       "      <th>1</th>\n",
       "      <td>0.380855</td>\n",
       "    </tr>\n",
       "  </tbody>\n",
       "</table>\n",
       "</div>"
      ],
      "text/plain": [
       "  Marx/Engels\n",
       "0    0.619145\n",
       "1    0.380855"
      ]
     },
     "execution_count": 26,
     "metadata": {},
     "output_type": "execute_result"
    }
   ],
   "source": [
    "bad=['deine','hattest','hattet','kannst','musst','müßt','nein','sollt','werdet', 'wieso','wirst']\n",
    "for word in bad:\n",
    "    stopwords.remove(word)\n",
    "EM_Algo_LA(2,pwa.drop(\"Marx/Engels\")[stopwords],unknowns[stopwords])"
   ]
  },
  {
   "cell_type": "code",
   "execution_count": 29,
   "metadata": {
    "collapsed": false
   },
   "outputs": [
    {
     "name": "stdout",
     "output_type": "stream",
     "text": [
      "0\n"
     ]
    },
    {
     "data": {
      "text/html": [
       "<div>\n",
       "<table border=\"1\" class=\"dataframe\">\n",
       "  <thead>\n",
       "    <tr style=\"text-align: right;\">\n",
       "      <th></th>\n",
       "      <th>Marx/Engels</th>\n",
       "    </tr>\n",
       "  </thead>\n",
       "  <tbody>\n",
       "    <tr>\n",
       "      <th>0</th>\n",
       "      <td>0.999829</td>\n",
       "    </tr>\n",
       "    <tr>\n",
       "      <th>1</th>\n",
       "      <td>0.000170873</td>\n",
       "    </tr>\n",
       "  </tbody>\n",
       "</table>\n",
       "</div>"
      ],
      "text/plain": [
       "   Marx/Engels\n",
       "0     0.999829\n",
       "1  0.000170873"
      ]
     },
     "execution_count": 29,
     "metadata": {},
     "output_type": "execute_result"
    }
   ],
   "source": [
    "EM_Algo_LA(2,pwa.drop(\"Marx/Engels\")[stopwords2],unknowns[stopwords2])"
   ]
  },
  {
   "cell_type": "code",
   "execution_count": 111,
   "metadata": {
    "collapsed": true
   },
   "outputs": [],
   "source": [
    "def doubleUpdate(numTopics,df):\n",
    "    ptd=[]\n",
    "    guess=[]\n",
    "    pwt=[]\n",
    "    for i in range(numTopics):\n",
    "        guess.append(1/numTopics)\n",
    "        pwt.append(np.random.dirichlet(range(df.shape[1]+1)))\n",
    "    for j in range(df.shape[0]):\n",
    "        ptd.append(guess)\n",
    "    ptd=pd.DataFrame(ptd)\n",
    "    ptd.index=df.index\n",
    "    pwt=pd.DataFrame(pwt).drop(0,axis=1)\n",
    "    pwt.columns=df.columns\n",
    "    #ptdnew=pd.DataFrame(0, columns=ptd.columns, index=ptd.index)\n",
    "    #pwtnew=pd.DataFrame(0, columns=df.columns,index=pwt.index)\n",
    "    i=0\n",
    "    AOLD=pd.DataFrame(0, columns=ptd.columns, index=ptd.index).T\n",
    "    A=ptd.T\n",
    "    B=pwt.T # document word\n",
    "    #return(A-AOLD)\n",
    "    #while(abs(((A-AOLD)).sum(axis=0).sum())>.0000001):\n",
    "    while(i<150):\n",
    "        i+=1\n",
    "        #print(i)\n",
    "        AOLD=A.copy()\n",
    "        BA=np.dot(B,A)\n",
    "        #print(df.T.shape,BA.shape)\n",
    "        NBA=df.T/BA\n",
    "        BNBA=np.dot(B.T,NBA.fillna(0))\n",
    "        final1=A*BNBA\n",
    "        final1=pd.DataFrame(final1)/pd.DataFrame(final1).sum(axis=0)\n",
    "        A=final1\n",
    "        BA=np.dot(B,A)\n",
    "        NBA=df.T/BA\n",
    "        NBAA=np.dot(NBA.fillna(0),A.T)\n",
    "        final2=B*NBAA\n",
    "        final2=pd.DataFrame(final2)/pd.DataFrame(final2).sum(axis=0)\n",
    "        B=final2\n",
    "        #print((A-AOLD).sum(axis=0).sum())\n",
    "        #print(A[1])\n",
    "    return(A,B)"
   ]
  },
  {
   "cell_type": "code",
   "execution_count": 31,
   "metadata": {
    "collapsed": false
   },
   "outputs": [],
   "source": [
    "engels=df.loc[df['Author']==\"Engels\"]\n",
    "marx=df.loc[df['Author']==\"Marx\"]"
   ]
  },
  {
   "cell_type": "code",
   "execution_count": 32,
   "metadata": {
    "collapsed": false
   },
   "outputs": [],
   "source": [
    "marxtop=doubleUpdate(1,marx.drop(\"Author\",axis=1).drop(\"Marx3\"))[1]\n",
    "marxtop=marxtop.T\n",
    "marxtop.index=[\"Marx1\"]\n",
    "engtop=doubleUpdate(1,engels.drop(\"Author\",axis=1))[1]\n",
    "engtop=engtop.T\n",
    "engtop.index=[\"Engels1\"]"
   ]
  },
  {
   "cell_type": "code",
   "execution_count": 33,
   "metadata": {
    "collapsed": false
   },
   "outputs": [
    {
     "name": "stdout",
     "output_type": "stream",
     "text": [
      "0\n"
     ]
    },
    {
     "data": {
      "text/html": [
       "<div>\n",
       "<table border=\"1\" class=\"dataframe\">\n",
       "  <thead>\n",
       "    <tr style=\"text-align: right;\">\n",
       "      <th></th>\n",
       "      <th>Marx/Engels</th>\n",
       "    </tr>\n",
       "  </thead>\n",
       "  <tbody>\n",
       "    <tr>\n",
       "      <th>0</th>\n",
       "      <td>0.380855</td>\n",
       "    </tr>\n",
       "    <tr>\n",
       "      <th>1</th>\n",
       "      <td>0.619145</td>\n",
       "    </tr>\n",
       "  </tbody>\n",
       "</table>\n",
       "</div>"
      ],
      "text/plain": [
       "  Marx/Engels\n",
       "0    0.380855\n",
       "1    0.619145"
      ]
     },
     "execution_count": 33,
     "metadata": {},
     "output_type": "execute_result"
    }
   ],
   "source": [
    "EM_Algo_LA(2,marxtop.append(engtop).replace(0,.0000001)[stopwords],unknowns[stopwords])"
   ]
  },
  {
   "cell_type": "code",
   "execution_count": 160,
   "metadata": {
    "collapsed": false
   },
   "outputs": [],
   "source": [
    "unknownsprob=unknowns/(unknowns.sum(axis=1)['Marx/Engels'])"
   ]
  },
  {
   "cell_type": "code",
   "execution_count": 180,
   "metadata": {
    "collapsed": false
   },
   "outputs": [
    {
     "name": "stdout",
     "output_type": "stream",
     "text": [
      "0\n",
      "0\n",
      "0\n",
      "1\n",
      "                 Marx    Engels\n",
      "Marx/Engels  0.495556  0.504444\n",
      "                 Marx    Engels\n",
      "Marx/Engels  0.392634  0.607366\n",
      "                  Marx    Engels\n",
      "Marx/Engels  0.0787681  0.921232\n",
      "0\n",
      "0\n",
      "0\n",
      "2\n",
      "                Marx   Engels\n",
      "Marx/Engels  0.44212  0.55788\n",
      "                 Marx    Engels\n",
      "Marx/Engels  0.481414  0.518586\n",
      "                Marx   Engels\n",
      "Marx/Engels  0.56304  0.43696\n",
      "0\n",
      "0\n",
      "0\n",
      "3\n",
      "                 Marx    Engels\n",
      "Marx/Engels  0.456132  0.543868\n",
      "                 Marx    Engels\n",
      "Marx/Engels  0.706297  0.293703\n",
      "                 Marx    Engels\n",
      "Marx/Engels  0.714841  0.285159\n",
      "0\n",
      "0\n",
      "0\n",
      "4\n",
      "                 Marx    Engels\n",
      "Marx/Engels  0.439209  0.560791\n",
      "                 Marx    Engels\n",
      "Marx/Engels  0.596264  0.403736\n",
      "                 Marx    Engels\n",
      "Marx/Engels  0.788947  0.211053\n",
      "0\n",
      "0\n",
      "0\n",
      "5\n",
      "                 Marx    Engels\n",
      "Marx/Engels  0.419629  0.580371\n",
      "                 Marx    Engels\n",
      "Marx/Engels  0.562513  0.437487\n",
      "                 Marx    Engels\n",
      "Marx/Engels  0.694728  0.305272\n",
      "0\n",
      "0\n",
      "0\n",
      "6\n",
      "                 Marx    Engels\n",
      "Marx/Engels  0.449418  0.550582\n",
      "                 Marx    Engels\n",
      "Marx/Engels  0.643463  0.356537\n",
      "                 Marx    Engels\n",
      "Marx/Engels  0.554308  0.445692\n",
      "0\n",
      "0\n",
      "0\n",
      "7\n",
      "                 Marx    Engels\n",
      "Marx/Engels  0.453949  0.546051\n",
      "                 Marx     Engels\n",
      "Marx/Engels  0.923463  0.0765374\n",
      "                 Marx     Engels\n",
      "Marx/Engels  0.963248  0.0367518\n",
      "0\n",
      "0\n",
      "0\n",
      "8\n",
      "                 Marx    Engels\n",
      "Marx/Engels  0.446776  0.553224\n",
      "                 Marx     Engels\n",
      "Marx/Engels  0.944601  0.0553993\n",
      "                 Marx       Engels\n",
      "Marx/Engels  0.999959  4.10593e-05\n",
      "0\n",
      "0\n",
      "0\n",
      "9\n",
      "                 Marx    Engels\n",
      "Marx/Engels  0.453257  0.546743\n",
      "                 Marx     Engels\n",
      "Marx/Engels  0.957303  0.0426972\n",
      "            Marx       Engels\n",
      "Marx/Engels    1  1.56991e-07\n",
      "0\n",
      "0\n",
      "0\n",
      "10\n",
      "                 Marx    Engels\n",
      "Marx/Engels  0.498034  0.501966\n",
      "                 Marx     Engels\n",
      "Marx/Engels  0.979907  0.0200931\n",
      "            Marx      Engels\n",
      "Marx/Engels    1  4.4088e-28\n"
     ]
    }
   ],
   "source": [
    "tracks=[]\n",
    "tracksstop=[]\n",
    "tracksstop2=[]\n",
    "mses=[]\n",
    "for i in range(10):\n",
    "    marx2=doubleUpdate(i+1,marx.drop(\"Author\",axis=1))[1].T\n",
    "    #.drop(\"Marx3\"))[1].T\n",
    "    marxcolumns=[]\n",
    "    for j in range(i+1):\n",
    "        marxcolumns.append(\"Marx\"+str(j+1))\n",
    "    marx2.index=marxcolumns\n",
    "    engels2=doubleUpdate(i+1,engels.drop(\"Author\",axis=1))[1].T\n",
    "    engelscolumns=[]\n",
    "    for j in range(i+1):\n",
    "        engelscolumns.append(\"Engels\"+str(j+1))\n",
    "    engels2.index=engelscolumns\n",
    "    al=marx2.append(engels2)\n",
    "    al_nu=al.replace(0,.000000001)\n",
    "    #print(al_nu)\n",
    "    result=EM_Algo_LA((i+1)*2,al_nu,unknowns)\n",
    "    resultstop=EM_Algo_LA((i+1)*2,al_nu[stopwords],unknowns[stopwords])\n",
    "    resultstop2=EM_Algo_LA((i+1)*2,al_nu[stopwords2],unknowns[stopwords2])\n",
    "    pred=pd.DataFrame(np.dot(result.T,al_nu),columns=unknowns.columns,index=unknowns.index).T\n",
    "    predstop=pd.DataFrame(np.dot(resultstop.T,al_nu),columns=unknowns.columns,index=unknowns.index).T\n",
    "    predstop2=pd.DataFrame(np.dot(resultstop2.T,al_nu),columns=unknowns.columns,index=unknowns.index).T\n",
    "    mses.append([abs(pred.T-unknownsprob).sum(axis=1)['Marx/Engels'],abs(predstop.T-unknownsprob).sum(axis=1)['Marx/Engels'],abs(predstop2.T-unknownsprob).sum(axis=1)['Marx/Engels']])\n",
    "    result.index=al_nu.index\n",
    "    resultstop.index=al_nu.index\n",
    "    resultstop2.index=al_nu.index\n",
    "    result=result.T\n",
    "    resultstop=resultstop.T\n",
    "    resultstop2=resultstop2.T\n",
    "    result['Marx']=0\n",
    "    result['Engels']=0\n",
    "    resultstop['Marx']=0\n",
    "    resultstop['Engels']=0\n",
    "    resultstop2['Marx']=0\n",
    "    resultstop2['Engels']=0\n",
    "    for j in range(i+1):\n",
    "        result['Marx']=result['Marx']+result['Marx'+str(j+1)]\n",
    "        result['Engels']=result['Engels']+result['Engels'+str(j+1)]\n",
    "        resultstop['Marx']=resultstop['Marx']+resultstop['Marx'+str(j+1)]\n",
    "        resultstop['Engels']=resultstop['Engels']+resultstop['Engels'+str(j+1)]\n",
    "        resultstop2['Marx']=resultstop2['Marx']+resultstop2['Marx'+str(j+1)]\n",
    "        resultstop2['Engels']=resultstop2['Engels']+resultstop2['Engels'+str(j+1)]\n",
    "    print(i+1)\n",
    "    print(result[[\"Marx\",\"Engels\"]])\n",
    "    tracks.append(result[[\"Marx\",\"Engels\"]])\n",
    "    print(resultstop[[\"Marx\",\"Engels\"]])\n",
    "    tracksstop.append(resultstop[[\"Marx\",\"Engels\"]])\n",
    "    print(resultstop2[[\"Marx\",\"Engels\"]])\n",
    "    tracksstop2.append(resultstop2[[\"Marx\",\"Engels\"]])"
   ]
  },
  {
   "cell_type": "code",
   "execution_count": 204,
   "metadata": {
    "collapsed": false
   },
   "outputs": [
    {
     "data": {
      "text/plain": [
       "<matplotlib.text.Text at 0x7f44c5af8400>"
      ]
     },
     "execution_count": 204,
     "metadata": {},
     "output_type": "execute_result"
    },
    {
     "data": {
      "image/png": "[encoded data removed]",
      "text/plain": [
       "<matplotlib.figure.Figure at 0x7f44a203d400>"
      ]
     },
     "metadata": {},
     "output_type": "display_data"
    }
   ],
   "source": [
    "plotdf=pd.DataFrame(mses,columns=[\"All\",\"Stops\",\"Top20\"])\n",
    "plotdf.index=plotdf.index+1\n",
    "plotdf.plot.line()\n",
    "plt.xlabel(\"# of topics\")\n",
    "plt.ylabel(\"Absolute Errors\")\n",
    "plt.title(\"Prediction method absolute errors\")"
   ]
  },
  {
   "cell_type": "code",
   "execution_count": 176,
   "metadata": {
    "collapsed": false
   },
   "outputs": [
    {
     "data": {
      "text/plain": [
       "<matplotlib.axes._subplots.AxesSubplot at 0x7f4558a174a8>"
      ]
     },
     "execution_count": 176,
     "metadata": {},
     "output_type": "execute_result"
    },
    {
     "data": {
      "image/png": "[encoded data removed]",
      "text/plain": [
       "<matplotlib.figure.Figure at 0x7f4555616ba8>"
      ]
     },
     "metadata": {},
     "output_type": "display_data"
    }
   ],
   "source": [
    "data=[]\n",
    "engy=[]\n",
    "marxy=[]\n",
    "for j in range(len(tracksstop)):\n",
    "    current=[tracksstop[j]['Engels']['Marx/Engels'],tracksstop[j]['Marx']['Marx/Engels']]\n",
    "    data.append(current)\n",
    "    engy.append(tracksstop[j]['Marx'])\n",
    "    marxy.append(tracksstop[j]['Marx'])\n",
    "pd.DataFrame(data,columns=[\"Engels\",\"Marx\"]).plot.line()"
   ]
  },
  {
   "cell_type": "code",
   "execution_count": 36,
   "metadata": {
    "collapsed": false
   },
   "outputs": [
    {
     "data": {
      "text/plain": [
       "<matplotlib.axes._subplots.AxesSubplot at 0x7f45504c04e0>"
      ]
     },
     "execution_count": 36,
     "metadata": {},
     "output_type": "execute_result"
    },
    {
     "data": {
      "image/png": "[encoded data removed]",
      "text/plain": [
       "<matplotlib.figure.Figure at 0x7f454fc51be0>"
      ]
     },
     "metadata": {},
     "output_type": "display_data"
    }
   ],
   "source": [
    "data=[]\n",
    "engy=[]\n",
    "marxy=[]\n",
    "for j in range(len(tracksstop)):\n",
    "    current=[tracks[j]['Engels']['Marx/Engels'],tracks[j]['Marx']['Marx/Engels']]\n",
    "    data.append(current)\n",
    "    engy.append(tracks[j]['Marx'])\n",
    "    marxy.append(tracks[j]['Marx'])\n",
    "pd.DataFrame(data,columns=[\"Engels\",\"Marx\"]).plot.line(ylim=[0,1])\n"
   ]
  },
  {
   "cell_type": "code",
   "execution_count": 37,
   "metadata": {
    "collapsed": false
   },
   "outputs": [
    {
     "data": {
      "text/plain": [
       "<matplotlib.axes._subplots.AxesSubplot at 0x7f45515585f8>"
      ]
     },
     "execution_count": 37,
     "metadata": {},
     "output_type": "execute_result"
    },
    {
     "data": {
      "image/png": "[encoded data removed]",
      "text/plain": [
       "<matplotlib.figure.Figure at 0x7f4553341d30>"
      ]
     },
     "metadata": {},
     "output_type": "display_data"
    }
   ],
   "source": [
    "data=[]\n",
    "engy=[]\n",
    "marxy=[]\n",
    "for j in range(len(tracksstop)):\n",
    "    current=[tracksstop2[j]['Engels']['Marx/Engels'],tracksstop2[j]['Marx']['Marx/Engels']]\n",
    "    data.append(current)\n",
    "    engy.append(tracksstop2[j]['Marx'])\n",
    "    marxy.append(tracksstop2[j]['Marx'])\n",
    "pd.DataFrame(data,columns=[\"Engels\",\"Marx\"]).plot.line()"
   ]
  },
  {
   "cell_type": "code",
   "execution_count": null,
   "metadata": {
    "collapsed": true
   },
   "outputs": [],
   "source": [
    "# leave one out t"
   ]
  },
  {
   "cell_type": "markdown",
   "metadata": {},
   "source": [
    "# Leave one out"
   ]
  },
  {
   "cell_type": "code",
   "execution_count": 55,
   "metadata": {
    "collapsed": false
   },
   "outputs": [
    {
     "data": {
      "text/html": [
       "<div>\n",
       "<table border=\"1\" class=\"dataframe\">\n",
       "  <thead>\n",
       "    <tr style=\"text-align: right;\">\n",
       "      <th>index</th>\n",
       "      <th>grundbesitzende</th>\n",
       "      <th>brauche</th>\n",
       "      <th>das</th>\n",
       "      <th>viehnamen</th>\n",
       "      <th>engelspublishernew-york</th>\n",
       "      <th>sohn</th>\n",
       "      <th>sozusagen</th>\n",
       "      <th>zubehör</th>\n",
       "      <th>küchengebäuden</th>\n",
       "      <th>»mächte</th>\n",
       "      <th>...</th>\n",
       "      <th>genommen</th>\n",
       "      <th>zugesetzten</th>\n",
       "      <th>lösliche</th>\n",
       "      <th>esel</th>\n",
       "      <th>geflüchtet</th>\n",
       "      <th>letztes</th>\n",
       "      <th>geworfnen</th>\n",
       "      <th>todte</th>\n",
       "      <th>abscheu</th>\n",
       "      <th>gründlichere</th>\n",
       "    </tr>\n",
       "  </thead>\n",
       "  <tbody>\n",
       "    <tr>\n",
       "      <th>Engels1</th>\n",
       "      <td>1</td>\n",
       "      <td>0</td>\n",
       "      <td>128</td>\n",
       "      <td>0</td>\n",
       "      <td>0</td>\n",
       "      <td>0</td>\n",
       "      <td>0</td>\n",
       "      <td>0</td>\n",
       "      <td>1</td>\n",
       "      <td>0</td>\n",
       "      <td>...</td>\n",
       "      <td>3</td>\n",
       "      <td>0</td>\n",
       "      <td>0</td>\n",
       "      <td>1</td>\n",
       "      <td>0</td>\n",
       "      <td>1</td>\n",
       "      <td>0</td>\n",
       "      <td>1</td>\n",
       "      <td>0</td>\n",
       "      <td>0</td>\n",
       "    </tr>\n",
       "  </tbody>\n",
       "</table>\n",
       "<p>1 rows × 14280 columns</p>\n",
       "</div>"
      ],
      "text/plain": [
       "index   grundbesitzende brauche  das viehnamen engelspublishernew-york sohn  \\\n",
       "Engels1               1       0  128         0                       0    0   \n",
       "\n",
       "index   sozusagen zubehör küchengebäuden »mächte     ...      genommen  \\\n",
       "Engels1         0       0              1       0     ...             3   \n",
       "\n",
       "index   zugesetzten lösliche esel geflüchtet letztes geworfnen todte abscheu  \\\n",
       "Engels1           0        0    1          0       1         0     1       0   \n",
       "\n",
       "index   gründlichere  \n",
       "Engels1            0  \n",
       "\n",
       "[1 rows x 14280 columns]"
      ]
     },
     "execution_count": 55,
     "metadata": {},
     "output_type": "execute_result"
    }
   ],
   "source": [
    "pd.DataFrame(engelshold).T.drop(\"Author\",axis=1)"
   ]
  },
  {
   "cell_type": "code",
   "execution_count": 67,
   "metadata": {
    "collapsed": false
   },
   "outputs": [
    {
     "name": "stdout",
     "output_type": "stream",
     "text": [
      "0\n"
     ]
    }
   ],
   "source": [
    "engelshold=pd.DataFrame(engels.loc['Engels1']).T.drop(\"Author\",axis=1)\n",
    "engelskeep=engels.drop(\"Engels1\").drop(\"Author\",axis=1)\n",
    "engelstopics=doubleUpdate(6,engelskeep)\n",
    "pred=EM_Algo_LA(6,engelstopics[1].T.replace(0,.0000000000001),engelshold)"
   ]
  },
  {
   "cell_type": "code",
   "execution_count": 85,
   "metadata": {
    "collapsed": false
   },
   "outputs": [],
   "source": [
    "predprob=pd.DataFrame(np.dot(engelstopics[1],pred)).T\n",
    "actual=engelshold/(engelshold.sum(axis=1))['Engels1']"
   ]
  },
  {
   "cell_type": "code",
   "execution_count": 92,
   "metadata": {
    "collapsed": false
   },
   "outputs": [
    {
     "data": {
      "text/plain": [
       "Engels1    0.830462\n",
       "dtype: float64"
      ]
     },
     "execution_count": 92,
     "metadata": {},
     "output_type": "execute_result"
    }
   ],
   "source": [
    "predprob.columns=actual.columns\n",
    "predprob.index=actual.index\n",
    "abs(predprob-actual).sum(axis=1)"
   ]
  },
  {
   "cell_type": "code",
   "execution_count": 187,
   "metadata": {
    "collapsed": true
   },
   "outputs": [],
   "source": [
    "errors=[]\n",
    "for i in range(10):\n",
    "    errors.append([])"
   ]
  },
  {
   "cell_type": "code",
   "execution_count": 188,
   "metadata": {
    "collapsed": false
   },
   "outputs": [
    {
     "name": "stdout",
     "output_type": "stream",
     "text": [
      "Engels1\n",
      "0\n",
      "0\n",
      "0\n",
      "0\n",
      "0\n",
      "0\n",
      "0\n",
      "0\n",
      "0\n",
      "0\n",
      "Engels2\n",
      "0\n",
      "0\n",
      "0\n",
      "0\n",
      "0\n",
      "0\n",
      "0\n",
      "0\n",
      "0\n",
      "0\n",
      "Engels3\n",
      "0\n",
      "0\n",
      "0\n",
      "0\n",
      "0\n",
      "0\n",
      "0\n",
      "0\n",
      "0\n",
      "0\n",
      "Engels4\n",
      "0\n",
      "0\n",
      "0\n",
      "0\n",
      "0\n",
      "0\n",
      "0\n",
      "0\n",
      "0\n",
      "0\n",
      "Engels5\n",
      "0\n",
      "0\n",
      "0\n",
      "0\n",
      "0\n",
      "0\n",
      "0\n",
      "0\n",
      "0\n",
      "0\n",
      "Engels6\n",
      "0\n",
      "0\n",
      "0\n",
      "0\n",
      "0\n",
      "0\n",
      "0\n",
      "0\n",
      "0\n",
      "0\n",
      "Engels7\n",
      "0\n",
      "0\n",
      "0\n",
      "0\n",
      "0\n",
      "0\n",
      "0\n",
      "0\n",
      "0\n",
      "0\n",
      "Engels8\n",
      "0\n",
      "0\n",
      "0\n",
      "0\n",
      "0\n",
      "0\n",
      "0\n",
      "0\n",
      "0\n",
      "0\n",
      "Engels9\n",
      "0\n",
      "0\n",
      "0\n",
      "0\n",
      "0\n",
      "0\n",
      "0\n",
      "0\n",
      "0\n",
      "0\n",
      "Engels10\n",
      "0\n",
      "0\n",
      "0\n",
      "0\n",
      "0\n",
      "0\n",
      "0\n",
      "0\n",
      "0\n",
      "0\n"
     ]
    }
   ],
   "source": [
    "for indice in engels.index:\n",
    "#indice=\"Engels1\"\n",
    "    print(indice)\n",
    "    engelshold=pd.DataFrame(engels.loc[indice]).T.drop(\"Author\",axis=1)\n",
    "    engelskeep=engels.drop(indice).drop(\"Author\",axis=1)\n",
    "    for i in range(10):\n",
    "        engelstopics=doubleUpdate(i+1,engelskeep)\n",
    "        pred=EM_Algo_LA(i+1,engelstopics[1].T.replace(0,.0000000000001),engelshold)\n",
    "        predprob=pd.DataFrame(np.dot(engelstopics[1],pred)).T\n",
    "        actual=engelshold/(engelshold.sum(axis=1))[indice]\n",
    "        predprob.columns=actual.columns\n",
    "        predprob.index=actual.index\n",
    "        errors[i].append(abs(predprob-actual).sum(axis=1)[indice])\n",
    "        "
   ]
  },
  {
   "cell_type": "code",
   "execution_count": 189,
   "metadata": {
    "collapsed": false
   },
   "outputs": [
    {
     "data": {
      "text/plain": [
       "<matplotlib.axes._subplots.AxesSubplot at 0x7f455541fda0>"
      ]
     },
     "execution_count": 189,
     "metadata": {},
     "output_type": "execute_result"
    },
    {
     "data": {
      "image/png": "[encoded data removed]",
      "text/plain": [
       "<matplotlib.figure.Figure at 0x7f4559db66d8>"
      ]
     },
     "metadata": {},
     "output_type": "display_data"
    }
   ],
   "source": [
    "test=pd.DataFrame(errors)\n",
    "test.index=test.index+1\n",
    "test.columns=test.columns+1\n",
    "test.plot.line()"
   ]
  },
  {
   "cell_type": "code",
   "execution_count": 143,
   "metadata": {
    "collapsed": false
   },
   "outputs": [
    {
     "data": {
      "text/plain": [
       "Marx1     10640.0\n",
       "Marx2      4956.0\n",
       "Marx3         0.0\n",
       "Marx4     18851.0\n",
       "Marx5      3057.0\n",
       "Marx6       636.0\n",
       "Marx7      1262.0\n",
       "Marx8      9582.0\n",
       "Marx9      9076.0\n",
       "Marx10     5326.0\n",
       "dtype: float64"
      ]
     },
     "execution_count": 143,
     "metadata": {},
     "output_type": "execute_result"
    }
   ],
   "source": []
  },
  {
   "cell_type": "code",
   "execution_count": 140,
   "metadata": {
    "collapsed": false
   },
   "outputs": [
    {
     "data": {
      "text/plain": [
       "<matplotlib.axes._subplots.AxesSubplot at 0x7f454b44a6d8>"
      ]
     },
     "execution_count": 140,
     "metadata": {},
     "output_type": "execute_result"
    },
    {
     "data": {
      "image/png": "[encoded data removed]",
      "text/plain": [
       "<matplotlib.figure.Figure at 0x7f4557a566d8>"
      ]
     },
     "metadata": {},
     "output_type": "display_data"
    }
   ],
   "source": [
    "test.mean(axis=1).plot.line()"
   ]
  },
  {
   "cell_type": "code",
   "execution_count": 190,
   "metadata": {
    "collapsed": true
   },
   "outputs": [],
   "source": [
    "errors2=[]\n",
    "for i in range(10):\n",
    "    errors2.append([])"
   ]
  },
  {
   "cell_type": "code",
   "execution_count": 147,
   "metadata": {
    "collapsed": false
   },
   "outputs": [
    {
     "ename": "ValueError",
     "evalue": "labels ['Marx3'] not contained in axis",
     "output_type": "error",
     "traceback": [
      "\u001b[0;31m---------------------------------------------------------------------------\u001b[0m",
      "\u001b[0;31mValueError\u001b[0m                                Traceback (most recent call last)",
      "\u001b[0;32m<ipython-input-147-8c5fed017915>\u001b[0m in \u001b[0;36m<module>\u001b[0;34m()\u001b[0m\n\u001b[0;32m----> 1\u001b[0;31m \u001b[0mmarx\u001b[0m\u001b[0;34m=\u001b[0m\u001b[0mmarx\u001b[0m\u001b[0;34m.\u001b[0m\u001b[0mdrop\u001b[0m\u001b[0;34m(\u001b[0m\u001b[0;34m\"Marx3\"\u001b[0m\u001b[0;34m)\u001b[0m\u001b[0;34m\u001b[0m\u001b[0m\n\u001b[0m",
      "\u001b[0;32m/opt/conda/lib/python3.5/site-packages/pandas/core/generic.py\u001b[0m in \u001b[0;36mdrop\u001b[0;34m(self, labels, axis, level, inplace, errors)\u001b[0m\n\u001b[1;32m   1905\u001b[0m                 \u001b[0mnew_axis\u001b[0m \u001b[0;34m=\u001b[0m \u001b[0maxis\u001b[0m\u001b[0;34m.\u001b[0m\u001b[0mdrop\u001b[0m\u001b[0;34m(\u001b[0m\u001b[0mlabels\u001b[0m\u001b[0;34m,\u001b[0m \u001b[0mlevel\u001b[0m\u001b[0;34m=\u001b[0m\u001b[0mlevel\u001b[0m\u001b[0;34m,\u001b[0m \u001b[0merrors\u001b[0m\u001b[0;34m=\u001b[0m\u001b[0merrors\u001b[0m\u001b[0;34m)\u001b[0m\u001b[0;34m\u001b[0m\u001b[0m\n\u001b[1;32m   1906\u001b[0m             \u001b[0;32melse\u001b[0m\u001b[0;34m:\u001b[0m\u001b[0;34m\u001b[0m\u001b[0m\n\u001b[0;32m-> 1907\u001b[0;31m                 \u001b[0mnew_axis\u001b[0m \u001b[0;34m=\u001b[0m \u001b[0maxis\u001b[0m\u001b[0;34m.\u001b[0m\u001b[0mdrop\u001b[0m\u001b[0;34m(\u001b[0m\u001b[0mlabels\u001b[0m\u001b[0;34m,\u001b[0m \u001b[0merrors\u001b[0m\u001b[0;34m=\u001b[0m\u001b[0merrors\u001b[0m\u001b[0;34m)\u001b[0m\u001b[0;34m\u001b[0m\u001b[0m\n\u001b[0m\u001b[1;32m   1908\u001b[0m             \u001b[0mdropped\u001b[0m \u001b[0;34m=\u001b[0m \u001b[0mself\u001b[0m\u001b[0;34m.\u001b[0m\u001b[0mreindex\u001b[0m\u001b[0;34m(\u001b[0m\u001b[0;34m**\u001b[0m\u001b[0;34m{\u001b[0m\u001b[0maxis_name\u001b[0m\u001b[0;34m:\u001b[0m \u001b[0mnew_axis\u001b[0m\u001b[0;34m}\u001b[0m\u001b[0;34m)\u001b[0m\u001b[0;34m\u001b[0m\u001b[0m\n\u001b[1;32m   1909\u001b[0m             \u001b[0;32mtry\u001b[0m\u001b[0;34m:\u001b[0m\u001b[0;34m\u001b[0m\u001b[0m\n",
      "\u001b[0;32m/opt/conda/lib/python3.5/site-packages/pandas/indexes/base.py\u001b[0m in \u001b[0;36mdrop\u001b[0;34m(self, labels, errors)\u001b[0m\n\u001b[1;32m   3260\u001b[0m             \u001b[0;32mif\u001b[0m \u001b[0merrors\u001b[0m \u001b[0;34m!=\u001b[0m \u001b[0;34m'ignore'\u001b[0m\u001b[0;34m:\u001b[0m\u001b[0;34m\u001b[0m\u001b[0m\n\u001b[1;32m   3261\u001b[0m                 raise ValueError('labels %s not contained in axis' %\n\u001b[0;32m-> 3262\u001b[0;31m                                  labels[mask])\n\u001b[0m\u001b[1;32m   3263\u001b[0m             \u001b[0mindexer\u001b[0m \u001b[0;34m=\u001b[0m \u001b[0mindexer\u001b[0m\u001b[0;34m[\u001b[0m\u001b[0;34m~\u001b[0m\u001b[0mmask\u001b[0m\u001b[0;34m]\u001b[0m\u001b[0;34m\u001b[0m\u001b[0m\n\u001b[1;32m   3264\u001b[0m         \u001b[0;32mreturn\u001b[0m \u001b[0mself\u001b[0m\u001b[0;34m.\u001b[0m\u001b[0mdelete\u001b[0m\u001b[0;34m(\u001b[0m\u001b[0mindexer\u001b[0m\u001b[0;34m)\u001b[0m\u001b[0;34m\u001b[0m\u001b[0m\n",
      "\u001b[0;31mValueError\u001b[0m: labels ['Marx3'] not contained in axis"
     ]
    }
   ],
   "source": [
    "marx=marx.drop(\"Marx3\")"
   ]
  },
  {
   "cell_type": "code",
   "execution_count": 191,
   "metadata": {
    "collapsed": false
   },
   "outputs": [
    {
     "name": "stdout",
     "output_type": "stream",
     "text": [
      "Marx1\n",
      "0\n",
      "0\n",
      "0\n",
      "0\n",
      "0\n",
      "0\n",
      "0\n",
      "0\n",
      "0\n",
      "0\n",
      "Marx2\n",
      "0\n",
      "0\n",
      "0\n",
      "0\n",
      "0\n",
      "0\n",
      "0\n",
      "0\n",
      "0\n",
      "0\n",
      "Marx4\n",
      "0\n",
      "0\n",
      "0\n",
      "0\n",
      "0\n",
      "0\n",
      "0\n",
      "0\n",
      "0\n",
      "0\n",
      "Marx5\n",
      "0\n",
      "0\n",
      "0\n",
      "0\n",
      "0\n",
      "0\n",
      "0\n",
      "0\n",
      "0\n",
      "0\n",
      "Marx6\n",
      "0\n",
      "0\n",
      "0\n",
      "0\n",
      "0\n",
      "0\n",
      "0\n",
      "0\n",
      "0\n",
      "0\n",
      "Marx7\n",
      "0\n",
      "0\n",
      "0\n",
      "0\n",
      "0\n",
      "0\n",
      "0\n",
      "0\n",
      "0\n",
      "0\n",
      "Marx8\n",
      "0\n",
      "0\n",
      "0\n",
      "0\n",
      "0\n",
      "0\n",
      "0\n",
      "0\n",
      "0\n",
      "0\n",
      "Marx9\n",
      "0\n",
      "0\n",
      "0\n",
      "0\n",
      "0\n",
      "0\n",
      "0\n",
      "0\n",
      "0\n",
      "0\n",
      "Marx10\n",
      "0\n",
      "0\n",
      "0\n",
      "0\n",
      "0\n",
      "0\n",
      "0\n",
      "0\n",
      "0\n",
      "0\n"
     ]
    }
   ],
   "source": [
    "for indice in marx.index:\n",
    "#indice=\"Engels1\"\n",
    "    print(indice)\n",
    "    marxhold=pd.DataFrame(marx.loc[indice]).T.drop(\"Author\",axis=1)\n",
    "    marxkeep=marx.drop(indice).drop(\"Author\",axis=1)\n",
    "    for i in range(10):\n",
    "        marxtopics=doubleUpdate(i+1,marxkeep)\n",
    "        pred=EM_Algo_LA(i+1,marxtopics[1].T.replace(0,.0000000000001),marxhold)\n",
    "        predprob=pd.DataFrame(np.dot(marxtopics[1],pred)).T\n",
    "        actual=marxhold/(marxhold.sum(axis=1))[indice]\n",
    "        predprob.columns=actual.columns\n",
    "        predprob.index=actual.index\n",
    "        errors2[i].append(abs(predprob-actual).sum(axis=1)[indice])\n",
    "        "
   ]
  },
  {
   "cell_type": "code",
   "execution_count": 149,
   "metadata": {
    "collapsed": false
   },
   "outputs": [
    {
     "data": {
      "text/plain": [
       "<matplotlib.axes._subplots.AxesSubplot at 0x7f456b455a20>"
      ]
     },
     "execution_count": 149,
     "metadata": {},
     "output_type": "execute_result"
    },
    {
     "data": {
      "image/png": "[encoded data removed]",
      "text/plain": [
       "<matplotlib.figure.Figure at 0x7f4556767f98>"
      ]
     },
     "metadata": {},
     "output_type": "display_data"
    }
   ],
   "source": [
    "test2=pd.DataFrame(errors)\n",
    "test2.index=test.index+1\n",
    "test2.columns=test.columns+1\n",
    "test2.plot.line()"
   ]
  },
  {
   "cell_type": "code",
   "execution_count": 150,
   "metadata": {
    "collapsed": false
   },
   "outputs": [
    {
     "data": {
      "text/plain": [
       "<matplotlib.axes._subplots.AxesSubplot at 0x7f4555e89668>"
      ]
     },
     "execution_count": 150,
     "metadata": {},
     "output_type": "execute_result"
    },
    {
     "data": {
      "image/png": "[encoded data removed]",
      "text/plain": [
       "<matplotlib.figure.Figure at 0x7f4555f21668>"
      ]
     },
     "metadata": {},
     "output_type": "display_data"
    }
   ],
   "source": [
    "test2.mean(axis=1).plot.line()"
   ]
  },
  {
   "cell_type": "code",
   "execution_count": 199,
   "metadata": {
    "collapsed": false
   },
   "outputs": [
    {
     "data": {
      "text/plain": [
       "<matplotlib.axes._subplots.AxesSubplot at 0x7f44c4f2ae48>"
      ]
     },
     "execution_count": 199,
     "metadata": {},
     "output_type": "execute_result"
    },
    {
     "data": {
      "image/png": "[encoded data removed]",
      "text/plain": [
       "<matplotlib.figure.Figure at 0x7f42301cd4a8>"
      ]
     },
     "metadata": {},
     "output_type": "display_data"
    }
   ],
   "source": [
    "fig = plt.figure(figsize=(12,7))\n",
    "ax=plt.subplot(1,2,1)\n",
    "test=pd.DataFrame(errors)\n",
    "test.index=test.index+1\n",
    "test.columns=test.columns+1\n",
    "plt.xlabel(\"Number of Topics\")\n",
    "plt.ylabel(\"Sum of Absolute Errors\")\n",
    "plt.title(\"Engels\")\n",
    "test.plot.line(ax=ax)\n",
    "ax=plt.subplot(1,2,2)\n",
    "test2=pd.DataFrame(errors2)\n",
    "test2.index=test2.index+1\n",
    "test2.columns=test2.columns+1\n",
    "plt.title(\"Marx\")\n",
    "test2.plot.line(ax=ax)"
   ]
  },
  {
   "cell_type": "code",
   "execution_count": 198,
   "metadata": {
    "collapsed": false
   },
   "outputs": [
    {
     "data": {
      "text/plain": [
       "<matplotlib.text.Text at 0x7f44cfa15470>"
      ]
     },
     "execution_count": 198,
     "metadata": {},
     "output_type": "execute_result"
    },
    {
     "data": {
      "image/png": "[encoded data removed]",
      "text/plain": [
       "<matplotlib.figure.Figure at 0x7f44d514e908>"
      ]
     },
     "metadata": {},
     "output_type": "display_data"
    }
   ],
   "source": [
    "fig = plt.figure(figsize=(10,5))\n",
    "ax=plt.subplot(1,2,1)\n",
    "plt.xlabel(\"# Of Topics\")\n",
    "plt.ylabel(\"Absolute Error\")\n",
    "plt.title(\"Engels all papers mean Absolute Error\")\n",
    "test.mean(axis=1).plot.line(ax=ax)\n",
    "ax=plt.subplot(1,2,2)\n",
    "test2.mean(axis=1).plot.line(ax=ax)\n",
    "plt.title(\"Marx all papers mean Absolute Error\")"
   ]
  },
  {
   "cell_type": "code",
   "execution_count": null,
   "metadata": {
    "collapsed": true
   },
   "outputs": [],
   "source": []
  }
 ],
 "metadata": {
  "kernelspec": {
   "display_name": "Python 3",
   "language": "python",
   "name": "python3"
  },
  "language_info": {
   "codemirror_mode": {
    "name": "ipython",
    "version": 3
   },
   "file_extension": ".py",
   "mimetype": "text/x-python",
   "name": "python",
   "nbconvert_exporter": "python",
   "pygments_lexer": "ipython3",
   "version": "3.5.2"
  }
 },
 "nbformat": 4,
 "nbformat_minor": 2
}
