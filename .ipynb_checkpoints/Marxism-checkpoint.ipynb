{
 "cells": [
  {
   "cell_type": "markdown",
   "metadata": {},
   "source": [
    "# Data Import"
   ]
  },
  {
   "cell_type": "code",
   "execution_count": 4,
   "metadata": {
    "collapsed": false
   },
   "outputs": [],
   "source": [
    "from bs4 import BeautifulSoup\n",
    "from requests import get\n",
    "from requests.exceptions import RequestException\n",
    "from contextlib import closing\n",
    "import string\n",
    "import pandas as pd\n",
    "import numpy as np\n",
    "%matplotlib inline"
   ]
  },
  {
   "cell_type": "code",
   "execution_count": 5,
   "metadata": {
    "collapsed": true
   },
   "outputs": [],
   "source": [
    "def simple_get(url):\n",
    "    \"\"\"\n",
    "    Attempts to get the content at `url` by making an HTTP GET request.\n",
    "    If the content-type of response is some kind of HTML/XML, return the\n",
    "    text content, otherwise return None\n",
    "    \"\"\"\n",
    "    try:\n",
    "        with closing(get(url, stream=True)) as resp:\n",
    "            if is_good_response(resp):\n",
    "                return resp.content\n",
    "            else:\n",
    "                return None\n",
    "\n",
    "    except RequestException as e:\n",
    "        log_error('Error during requests to {0} : {1}'.format(url, str(e)))\n",
    "        return None\n",
    "\n",
    "\n",
    "def is_good_response(resp):\n",
    "    \"\"\"\n",
    "    Returns true if the response seems to be HTML, false otherwise\n",
    "    \"\"\"\n",
    "    content_type = resp.headers['Content-Type'].lower()\n",
    "    return (resp.status_code == 200 \n",
    "            and content_type is not None \n",
    "            and content_type.find('html') > -1)\n",
    "\n",
    "\n",
    "def log_error(e):\n",
    "    \"\"\"\n",
    "    It is always a good idea to log errors. \n",
    "    This function just prints them, but you can\n",
    "    make it do anything.\n",
    "    \"\"\"\n",
    "    print(e)"
   ]
  },
  {
   "cell_type": "code",
   "execution_count": 6,
   "metadata": {
    "collapsed": true
   },
   "outputs": [],
   "source": [
    "def normalize_words(text):\n",
    "    words = text.split()\n",
    "    norm_words = []\n",
    "    for word in words:\n",
    "        lastChar = len(word) - 1 \n",
    "        if word[0] in (\"#\",\"@\",\"(\",\"$\",\"'\", '\"',\"[]\") or word[0].isdigit():\n",
    "            continue\n",
    "        if word[lastChar].isdigit() or (word[lastChar] in string.punctuation):\n",
    "            continue\n",
    "        norm_words.append(word.lower().rstrip(string.punctuation))\n",
    "    return norm_words"
   ]
  },
  {
   "cell_type": "code",
   "execution_count": 11,
   "metadata": {
    "collapsed": false
   },
   "outputs": [],
   "source": [
    "#link='http://www.mlwerke.de/me/'\n",
    "links=[\"https://de.wikisource.org/wiki/Manifest_der_Kommunistischen_Partei_(1848)\",\n",
    "      \"https://de.wikisource.org/wiki/Zur_Judenfrage\",\n",
    "      \"https://de.wikisource.org/wiki/Zur_Kritik_der_Hegel%E2%80%99schen_Rechtsphilosophie\",\n",
    "      \"https://de.wikisource.org/wiki/Thesen_%C3%BCber_Feuerbach\",\n",
    "       \"http://gutenberg.spiegel.de/buch/lohnarbeit-und-kapital-4977/1\",\n",
    "       \"http://gutenberg.spiegel.de/buch/zur-kritik-der-politischen-4976/1\",\n",
    "       \"http://gutenberg.spiegel.de/buch/lohn-preis-und-profit-4981/1\",\n",
    "       \"http://gutenberg.spiegel.de/buch/das-elend-der-philosophie-9092/2\",\n",
    "       \"http://gutenberg.spiegel.de/buch/das-elend-der-philosophie-9092/3\",\n",
    "       \"http://gutenberg.spiegel.de/buch/das-elend-der-philosophie-9092/4\",\n",
    "       \"http://gutenberg.spiegel.de/buch/das-elend-der-philosophie-9092/5\",\n",
    "      \"https://de.wikisource.org/wiki/Die_Lage_Englands\",\n",
    "      \"https://de.wikisource.org/wiki/Umrisse_zu_einer_Kritik_der_National%C3%B6konomie\",\n",
    "      \"http://gutenberg.spiegel.de/buch/die-entwicklung-des-sozialismus-von-der-utopie-zur-wissenschaft-5096/1\",\n",
    "      \"http://gutenberg.spiegel.de/buch/revolution-und-konterrevolution-in-deutschland-5091/1\",\n",
    "      \"http://gutenberg.spiegel.de/buch/anteil-der-arbeit-an-der-menschwerdung-des-affen-5093/1\",\n",
    "#      \"http://gutenberg.spiegel.de/buch/zur-wohnungsfrage-5094/1\",\n",
    "      \"http://gutenberg.spiegel.de/buch/der-ursprung-der-familie-des-privateigenthums-und-des-staats-10104/2\",\n",
    "      \"http://gutenberg.spiegel.de/buch/der-ursprung-der-familie-des-privateigenthums-und-des-staats-10104/3\",\n",
    "      \"http://gutenberg.spiegel.de/buch/der-ursprung-der-familie-des-privateigenthums-und-des-staats-10104/4\",\n",
    "      \"http://gutenberg.spiegel.de/buch/der-ursprung-der-familie-des-privateigenthums-und-des-staats-10104/5\",\n",
    "      \"http://gutenberg.spiegel.de/buch/der-ursprung-der-familie-des-privateigenthums-und-des-staats-10104/6\"]\n",
    "authors=[\"Marx/Engels\",\"Marx1\",\"Marx2\",\"Marx3\",\"Marx4\",\"Marx5\",\"Marx6\",\"Marx7\",\"Marx8\",\"Marx9\", \"Marx10\",\n",
    "         \"Engels1\",\"Engels2\",\"Engels3\",\"Engels4\",\"Engels5\",\"Engels6\",\"Engels7\",\"Engels8\",\"Engels9\",\"Engels10\",\"Engels11\"]\n",
    "authors2=[\"Marx/Engels\",\"Marx\",\"Marx\",\"Marx\",\"Marx\",\"Marx\",\"Marx\",\"Marx\",\"Marx\",\"Marx\",\"Marx\",\n",
    "         \"Engels\",\"Engels\",\"Engels\",\"Engels\",\"Engels\",\"Engels\",\"Engels\",\"Engels\",\"Engels\",\"Engels\"]\n",
    "#raw_html = simple_get(link)\n",
    "#html = BeautifulSoup(raw_html, 'html.parser')"
   ]
  },
  {
   "cell_type": "code",
   "execution_count": 8,
   "metadata": {
    "collapsed": false
   },
   "outputs": [
    {
     "name": "stdout",
     "output_type": "stream",
     "text": [
      "https://de.wikisource.org/wiki/Manifest_der_Kommunistischen_Partei_(1848)\n",
      "https://de.wikisource.org/wiki/Zur_Judenfrage\n",
      "https://de.wikisource.org/wiki/Zur_Kritik_der_Hegel%E2%80%99schen_Rechtsphilosophie\n",
      "https://de.wikisource.org/wiki/Thesen_%C3%BCber_Feuerbach\n",
      "http://gutenberg.spiegel.de/buch/lohnarbeit-und-kapital-4977/1\n",
      "http://gutenberg.spiegel.de/buch/zur-kritik-der-politischen-4976/1\n",
      "http://gutenberg.spiegel.de/buch/lohn-preis-und-profit-4981/1\n",
      "http://gutenberg.spiegel.de/buch/das-elend-der-philosophie-9092/2\n",
      "http://gutenberg.spiegel.de/buch/das-elend-der-philosophie-9092/3\n",
      "http://gutenberg.spiegel.de/buch/das-elend-der-philosophie-9092/4\n",
      "http://gutenberg.spiegel.de/buch/das-elend-der-philosophie-9092/5\n",
      "https://de.wikisource.org/wiki/Die_Lage_Englands\n",
      "https://de.wikisource.org/wiki/Umrisse_zu_einer_Kritik_der_National%C3%B6konomie\n",
      "http://gutenberg.spiegel.de/buch/die-entwicklung-des-sozialismus-von-der-utopie-zur-wissenschaft-5096/1\n",
      "http://gutenberg.spiegel.de/buch/revolution-und-konterrevolution-in-deutschland-5091/1\n",
      "http://gutenberg.spiegel.de/buch/anteil-der-arbeit-an-der-menschwerdung-des-affen-5093/1\n",
      "http://gutenberg.spiegel.de/buch/der-ursprung-der-familie-des-privateigenthums-und-des-staats-10104/2\n",
      "http://gutenberg.spiegel.de/buch/der-ursprung-der-familie-des-privateigenthums-und-des-staats-10104/3\n",
      "http://gutenberg.spiegel.de/buch/der-ursprung-der-familie-des-privateigenthums-und-des-staats-10104/4\n",
      "http://gutenberg.spiegel.de/buch/der-ursprung-der-familie-des-privateigenthums-und-des-staats-10104/5\n",
      "http://gutenberg.spiegel.de/buch/der-ursprung-der-familie-des-privateigenthums-und-des-staats-10104/6\n"
     ]
    }
   ],
   "source": [
    "text=\"\"\n",
    "fulltext=[]\n",
    "vocabs=[]\n",
    "for link in links:\n",
    "    print(link)\n",
    "    raw_html = simple_get(link)\n",
    "    html = BeautifulSoup(raw_html, 'html.parser')\n",
    "    text=\"\"\n",
    "    for p in html.select('p'):\n",
    "        text+=p.text\n",
    "        fulltext=fulltext+normalize_words(text)\n",
    "    vocab={}\n",
    "    for word in text.split():\n",
    "        if word[0] in (\"#\",\"@\",\"(\",\"$\",\"'\", '\"',\"[]\") or word[0].isdigit():\n",
    "            continue\n",
    "        word=word.lower().rstrip(string.punctuation+\"«\").lstrip(string.punctuation+\"«\")\n",
    "        if len(word.split(\".\"))>1:\n",
    "            for splitted in word.split(\".\"):\n",
    "                if splitted in vocab:\n",
    "                    vocab[splitted]+=1\n",
    "                else:\n",
    "                    vocab[splitted]=1\n",
    "        else:\n",
    "            if word in vocab:\n",
    "                vocab[word]+=1\n",
    "            else:\n",
    "                vocab[word]=1\n",
    "    vocabs.append(vocab)\n",
    "unique={}\n",
    "for word in fulltext:\n",
    "    unique[word]=1\n",
    "fulltext\n",
    "vocab['seiner']=2"
   ]
  },
  {
   "cell_type": "code",
   "execution_count": 9,
   "metadata": {
    "collapsed": false
   },
   "outputs": [],
   "source": [
    "test=pd.DataFrame(index=unique).reset_index()\n",
    "i=0\n",
    "for voc in vocabs:\n",
    "    #print(i)\n",
    "    test[authors[i]]=test['index'].map(voc)\n",
    "    i+=1\n",
    "#test['CommunistMan']=test['index'].map(vocab)\n",
    "df=test.fillna(0).set_index('index').T\n",
    "#df"
   ]
  },
  {
   "cell_type": "code",
   "execution_count": 10,
   "metadata": {
    "collapsed": false
   },
   "outputs": [
    {
     "data": {
      "text/plain": [
       "Marx/Engels     9344.0\n",
       "Marx1          10640.0\n",
       "Marx2           4956.0\n",
       "Marx3              0.0\n",
       "Marx4          18851.0\n",
       "Marx5           3057.0\n",
       "Marx6            636.0\n",
       "Marx7           1262.0\n",
       "Marx8           9582.0\n",
       "Marx9           9076.0\n",
       "Marx10          5326.0\n",
       "Engels1        10172.0\n",
       "Engels2         9877.0\n",
       "Engels3         8716.0\n",
       "Engels4         6454.0\n",
       "Engels5         8954.0\n",
       "Engels6         9403.0\n",
       "Engels7         3789.0\n",
       "Engels8        35429.0\n",
       "Engels9         9474.0\n",
       "Engels10        5772.0\n",
       "dtype: float64"
      ]
     },
     "execution_count": 10,
     "metadata": {},
     "output_type": "execute_result"
    }
   ],
   "source": [
    "# bug needs to be fixed here\n",
    "df.sum(axis=1)"
   ]
  },
  {
   "cell_type": "code",
   "execution_count": 12,
   "metadata": {
    "collapsed": false
   },
   "outputs": [],
   "source": [
    "#df=df.reset_index()\n",
    "#df=df.rename(index=str,columns={'index':'Author'})\n",
    "df['Author']=authors2"
   ]
  },
  {
   "cell_type": "code",
   "execution_count": 13,
   "metadata": {
    "collapsed": false
   },
   "outputs": [],
   "source": [
    "sumtotal=df.groupby('Author').sum()\n",
    "sumtotal=sumtotal.sum(axis=1)\n",
    "grouped=df.groupby('Author').sum()\n",
    "pwa=grouped"
   ]
  },
  {
   "cell_type": "code",
   "execution_count": 14,
   "metadata": {
    "collapsed": false
   },
   "outputs": [],
   "source": [
    "pwa.loc['Marx']=pwa.loc['Marx']/sumtotal.loc['Marx']\n",
    "pwa.loc['Engels']=pwa.loc['Engels']/sumtotal.loc['Engels']\n",
    "pwa.loc['Marx/Engels']=pwa.loc['Marx/Engels']/sumtotal.loc['Marx/Engels']"
   ]
  },
  {
   "cell_type": "code",
   "execution_count": 15,
   "metadata": {
    "collapsed": false
   },
   "outputs": [],
   "source": [
    "unknowns=df.loc[\"Marx/Engels\"].drop(\"Author\")\n",
    "#pwa=pwa.drop(['Marx/Engels']).replace(0,.0000001)\n",
    "pwa=pwa.replace(0,.0000001)"
   ]
  },
  {
   "cell_type": "code",
   "execution_count": 16,
   "metadata": {
    "collapsed": false
   },
   "outputs": [],
   "source": [
    "unknowns=pd.DataFrame(unknowns).T"
   ]
  },
  {
   "cell_type": "code",
   "execution_count": 17,
   "metadata": {
    "collapsed": false
   },
   "outputs": [],
   "source": [
    "stops=\"\"\"aber\n",
    "als\n",
    "am\n",
    "an\n",
    "auch\n",
    "auf\n",
    "aus\n",
    "bei\n",
    "bin\n",
    "bis\n",
    "bist\n",
    "da\n",
    "dadurch\n",
    "daher\n",
    "darum\n",
    "das\n",
    "daß\n",
    "dass\n",
    "dein\n",
    "deine\n",
    "dem\n",
    "den\n",
    "der\n",
    "des\n",
    "dessen\n",
    "deshalb\n",
    "die\n",
    "dies\n",
    "dieser\n",
    "dieses\n",
    "doch\n",
    "dort\n",
    "du\n",
    "durch\n",
    "ein\n",
    "eine\n",
    "einem\n",
    "einen\n",
    "einer\n",
    "eines\n",
    "er\n",
    "es\n",
    "euer\n",
    "eure\n",
    "für\n",
    "hatte\n",
    "hatten\n",
    "hattest\n",
    "hattet\n",
    "hier\n",
    "hinter\n",
    "ich\n",
    "ihr\n",
    "ihre\n",
    "im\n",
    "in\n",
    "ist\n",
    "ja\n",
    "jede\n",
    "jedem\n",
    "jeden\n",
    "jeder\n",
    "jedes\n",
    "jener\n",
    "jenes\n",
    "jetzt\n",
    "kann\n",
    "kannst\n",
    "können\n",
    "könnt\n",
    "machen\n",
    "mein\n",
    "meine\n",
    "mit\n",
    "muß\n",
    "mußt\n",
    "musst\n",
    "müssen\n",
    "müßt\n",
    "nach\n",
    "nachdem\n",
    "nein\n",
    "nicht\n",
    "nun\n",
    "oder\n",
    "seid\n",
    "sein\n",
    "seine\n",
    "sich\n",
    "sie\n",
    "sind\n",
    "soll\n",
    "sollen\n",
    "sollst\n",
    "sollt\n",
    "sonst\n",
    "soweit\n",
    "sowie\n",
    "und\n",
    "unser\n",
    "unsere\n",
    "unter\n",
    "vom\n",
    "von\n",
    "vor\n",
    "wann\n",
    "warum\n",
    "was\n",
    "weiter\n",
    "weitere\n",
    "wenn\n",
    "wer\n",
    "werde\n",
    "werden\n",
    "werdet\n",
    "weshalb\n",
    "wie\n",
    "wieder\n",
    "wieso\n",
    "wir\n",
    "wird\n",
    "wirst\n",
    "wo\n",
    "woher\n",
    "wohin\n",
    "zu\n",
    "zum\n",
    "zur\n",
    "über\"\"\""
   ]
  },
  {
   "cell_type": "code",
   "execution_count": 18,
   "metadata": {
    "collapsed": true
   },
   "outputs": [],
   "source": [
    "stopwords2=[\"der\",\"die\",\"das\",\"und\",\"sein\",\"in\",\"ein\",\"zu\",\"haben\",\"ich\",\"werden\",\"sie\",\"von\",\"nicht\",\"mit\", \n",
    "\"es\",\"sich\",\"auch\",\"auf\",\"für\",\"an\",\"er\",\n",
    "\"so\",\"dass\",\"können\",\"dies\",\"als\"]"
   ]
  },
  {
   "cell_type": "code",
   "execution_count": 19,
   "metadata": {
    "collapsed": true
   },
   "outputs": [],
   "source": [
    "stopwords=[]\n",
    "for words in stops.split():\n",
    "    stopwords.append(words)"
   ]
  },
  {
   "cell_type": "code",
   "execution_count": 20,
   "metadata": {
    "collapsed": false
   },
   "outputs": [],
   "source": [
    "def EM_Algo_LA(numTopics,pwapass,documentpass):\n",
    "    j=0\n",
    "    guess=[]\n",
    "    ptd=[]\n",
    "    for i in range(numTopics):\n",
    "        guess.append(1/numTopics)\n",
    "    for k in range(documentpass.shape[0]):\n",
    "        ptd.append(guess)\n",
    "    ptd=pd.DataFrame(ptd)\n",
    "    ptd.index=documentpass.index\n",
    "    B=pwapass\n",
    "    N=documentpass\n",
    "    print(j)\n",
    "    while j<1000:\n",
    "        if j!=0:\n",
    "            ptd=newguess.copy().T\n",
    "        j+=1\n",
    "        A=ptd\n",
    "        #print(A.shape,B.shape)\n",
    "        BA=np.dot(B.T,A.T)\n",
    "        #print(BA.shape)\n",
    "        #print(pd.DataFrame(BA).shape,pd.DataFrame(N).shape)\n",
    "        #return(BA)\n",
    "        NBA=(pd.DataFrame(N).T)/BA\n",
    "        #print(A.shape,np.dot(B,NBA).shape)\n",
    "        newguess=A.T*np.dot(B,NBA)\n",
    "        newguess=newguess/newguess.sum(axis=0)\n",
    "    return(newguess)"
   ]
  },
  {
   "cell_type": "code",
   "execution_count": null,
   "metadata": {
    "collapsed": false
   },
   "outputs": [],
   "source": []
  },
  {
   "cell_type": "code",
   "execution_count": 25,
   "metadata": {
    "collapsed": false
   },
   "outputs": [
    {
     "name": "stdout",
     "output_type": "stream",
     "text": [
      "0\n"
     ]
    },
    {
     "data": {
      "text/html": [
       "<div>\n",
       "<table border=\"1\" class=\"dataframe\">\n",
       "  <thead>\n",
       "    <tr style=\"text-align: right;\">\n",
       "      <th></th>\n",
       "      <th>Marx/Engels</th>\n",
       "    </tr>\n",
       "  </thead>\n",
       "  <tbody>\n",
       "    <tr>\n",
       "      <th>0</th>\n",
       "      <td>0.503629</td>\n",
       "    </tr>\n",
       "    <tr>\n",
       "      <th>1</th>\n",
       "      <td>0.496371</td>\n",
       "    </tr>\n",
       "  </tbody>\n",
       "</table>\n",
       "</div>"
      ],
      "text/plain": [
       "  Marx/Engels\n",
       "0    0.503629\n",
       "1    0.496371"
      ]
     },
     "execution_count": 25,
     "metadata": {},
     "output_type": "execute_result"
    }
   ],
   "source": [
    "EM_Algo_LA(2,pwa.drop(\"Marx/Engels\"),unknowns)"
   ]
  },
  {
   "cell_type": "code",
   "execution_count": 26,
   "metadata": {
    "collapsed": false
   },
   "outputs": [
    {
     "name": "stdout",
     "output_type": "stream",
     "text": [
      "0\n"
     ]
    },
    {
     "data": {
      "text/html": [
       "<div>\n",
       "<table border=\"1\" class=\"dataframe\">\n",
       "  <thead>\n",
       "    <tr style=\"text-align: right;\">\n",
       "      <th></th>\n",
       "      <th>Marx/Engels</th>\n",
       "    </tr>\n",
       "  </thead>\n",
       "  <tbody>\n",
       "    <tr>\n",
       "      <th>0</th>\n",
       "      <td>0.619145</td>\n",
       "    </tr>\n",
       "    <tr>\n",
       "      <th>1</th>\n",
       "      <td>0.380855</td>\n",
       "    </tr>\n",
       "  </tbody>\n",
       "</table>\n",
       "</div>"
      ],
      "text/plain": [
       "  Marx/Engels\n",
       "0    0.619145\n",
       "1    0.380855"
      ]
     },
     "execution_count": 26,
     "metadata": {},
     "output_type": "execute_result"
    }
   ],
   "source": [
    "bad=['deine','hattest','hattet','kannst','musst','müßt','nein','sollt','werdet', 'wieso','wirst']\n",
    "for word in bad:\n",
    "    stopwords.remove(word)\n",
    "EM_Algo_LA(2,pwa.drop(\"Marx/Engels\")[stopwords],unknowns[stopwords])"
   ]
  },
  {
   "cell_type": "code",
   "execution_count": 29,
   "metadata": {
    "collapsed": false
   },
   "outputs": [
    {
     "name": "stdout",
     "output_type": "stream",
     "text": [
      "0\n"
     ]
    },
    {
     "data": {
      "text/html": [
       "<div>\n",
       "<table border=\"1\" class=\"dataframe\">\n",
       "  <thead>\n",
       "    <tr style=\"text-align: right;\">\n",
       "      <th></th>\n",
       "      <th>Marx/Engels</th>\n",
       "    </tr>\n",
       "  </thead>\n",
       "  <tbody>\n",
       "    <tr>\n",
       "      <th>0</th>\n",
       "      <td>0.999829</td>\n",
       "    </tr>\n",
       "    <tr>\n",
       "      <th>1</th>\n",
       "      <td>0.000170873</td>\n",
       "    </tr>\n",
       "  </tbody>\n",
       "</table>\n",
       "</div>"
      ],
      "text/plain": [
       "   Marx/Engels\n",
       "0     0.999829\n",
       "1  0.000170873"
      ]
     },
     "execution_count": 29,
     "metadata": {},
     "output_type": "execute_result"
    }
   ],
   "source": [
    "EM_Algo_LA(2,pwa.drop(\"Marx/Engels\")[stopwords2],unknowns[stopwords2])"
   ]
  },
  {
   "cell_type": "code",
   "execution_count": 30,
   "metadata": {
    "collapsed": true
   },
   "outputs": [],
   "source": [
    "def doubleUpdate(numTopics,df):\n",
    "    ptd=[]\n",
    "    guess=[]\n",
    "    pwt=[]\n",
    "    for i in range(numTopics):\n",
    "        guess.append(1/numTopics)\n",
    "        pwt.append(np.random.dirichlet(range(df.shape[1]+1)))\n",
    "    for j in range(df.shape[0]):\n",
    "        ptd.append(guess)\n",
    "    ptd=pd.DataFrame(ptd)\n",
    "    ptd.index=df.index\n",
    "    pwt=pd.DataFrame(pwt).drop(0,axis=1)\n",
    "    pwt.columns=df.columns\n",
    "    #ptdnew=pd.DataFrame(0, columns=ptd.columns, index=ptd.index)\n",
    "    #pwtnew=pd.DataFrame(0, columns=df.columns,index=pwt.index)\n",
    "    i=0\n",
    "    AOLD=pd.DataFrame(0, columns=ptd.columns, index=ptd.index).T\n",
    "    A=ptd.T\n",
    "    B=pwt.T # document word\n",
    "    #return(A-AOLD)\n",
    "    #while(abs(((A-AOLD)).sum(axis=0).sum())>.0000001):\n",
    "    while(i<750):\n",
    "        i+=1\n",
    "        #print(i)\n",
    "        AOLD=A.copy()\n",
    "        BA=np.dot(B,A)\n",
    "        #print(df.T.shape,BA.shape)\n",
    "        NBA=df.T/BA\n",
    "        BNBA=np.dot(B.T,NBA.fillna(0))\n",
    "        final1=A*BNBA\n",
    "        final1=pd.DataFrame(final1)/pd.DataFrame(final1).sum(axis=0)\n",
    "        A=final1\n",
    "        BA=np.dot(B,A)\n",
    "        NBA=df.T/BA\n",
    "        NBAA=np.dot(NBA.fillna(0),A.T)\n",
    "        final2=B*NBAA\n",
    "        final2=pd.DataFrame(final2)/pd.DataFrame(final2).sum(axis=0)\n",
    "        B=final2\n",
    "        #print((A-AOLD).sum(axis=0).sum())\n",
    "        #print(A[1])\n",
    "    return(A,B)"
   ]
  },
  {
   "cell_type": "code",
   "execution_count": 31,
   "metadata": {
    "collapsed": false
   },
   "outputs": [],
   "source": [
    "engels=df.loc[df['Author']==\"Engels\"]\n",
    "marx=df.loc[df['Author']==\"Marx\"]"
   ]
  },
  {
   "cell_type": "code",
   "execution_count": 32,
   "metadata": {
    "collapsed": false
   },
   "outputs": [],
   "source": [
    "marxtop=doubleUpdate(1,marx.drop(\"Author\",axis=1).drop(\"Marx3\"))[1]\n",
    "marxtop=marxtop.T\n",
    "marxtop.index=[\"Marx1\"]\n",
    "engtop=doubleUpdate(1,engels.drop(\"Author\",axis=1))[1]\n",
    "engtop=engtop.T\n",
    "engtop.index=[\"Engels1\"]"
   ]
  },
  {
   "cell_type": "code",
   "execution_count": 33,
   "metadata": {
    "collapsed": false
   },
   "outputs": [
    {
     "name": "stdout",
     "output_type": "stream",
     "text": [
      "0\n"
     ]
    },
    {
     "data": {
      "text/html": [
       "<div>\n",
       "<table border=\"1\" class=\"dataframe\">\n",
       "  <thead>\n",
       "    <tr style=\"text-align: right;\">\n",
       "      <th></th>\n",
       "      <th>Marx/Engels</th>\n",
       "    </tr>\n",
       "  </thead>\n",
       "  <tbody>\n",
       "    <tr>\n",
       "      <th>0</th>\n",
       "      <td>0.380855</td>\n",
       "    </tr>\n",
       "    <tr>\n",
       "      <th>1</th>\n",
       "      <td>0.619145</td>\n",
       "    </tr>\n",
       "  </tbody>\n",
       "</table>\n",
       "</div>"
      ],
      "text/plain": [
       "  Marx/Engels\n",
       "0    0.380855\n",
       "1    0.619145"
      ]
     },
     "execution_count": 33,
     "metadata": {},
     "output_type": "execute_result"
    }
   ],
   "source": [
    "EM_Algo_LA(2,marxtop.append(engtop).replace(0,.0000001)[stopwords],unknowns[stopwords])"
   ]
  },
  {
   "cell_type": "raw",
   "metadata": {},
   "source": []
  },
  {
   "cell_type": "code",
   "execution_count": 34,
   "metadata": {
    "collapsed": false
   },
   "outputs": [
    {
     "name": "stdout",
     "output_type": "stream",
     "text": [
      "0\n",
      "0\n",
      "0\n",
      "1\n",
      "                 Marx    Engels\n",
      "Marx/Engels  0.495556  0.504444\n",
      "                 Marx    Engels\n",
      "Marx/Engels  0.380739  0.619261\n",
      "                    Marx    Engels\n",
      "Marx/Engels  0.000170873  0.999829\n",
      "0\n",
      "0\n",
      "0\n",
      "2\n",
      "                 Marx    Engels\n",
      "Marx/Engels  0.463411  0.536589\n",
      "                 Marx    Engels\n",
      "Marx/Engels  0.702953  0.297047\n",
      "                 Marx    Engels\n",
      "Marx/Engels  0.222439  0.777561\n",
      "0\n",
      "0\n",
      "0\n",
      "3\n",
      "                 Marx    Engels\n",
      "Marx/Engels  0.494072  0.505928\n",
      "                 Marx    Engels\n",
      "Marx/Engels  0.592051  0.407949\n",
      "                Marx   Engels\n",
      "Marx/Engels  0.42197  0.57803\n",
      "0\n",
      "0\n",
      "0\n",
      "4\n",
      "                 Marx    Engels\n",
      "Marx/Engels  0.434586  0.565414\n",
      "                 Marx    Engels\n",
      "Marx/Engels  0.702173  0.297827\n",
      "                 Marx    Engels\n",
      "Marx/Engels  0.814064  0.185936\n",
      "0\n",
      "0\n",
      "0\n",
      "5\n",
      "                 Marx    Engels\n",
      "Marx/Engels  0.457316  0.542684\n",
      "                 Marx    Engels\n",
      "Marx/Engels  0.645863  0.354137\n",
      "                 Marx    Engels\n",
      "Marx/Engels  0.525788  0.474212\n",
      "0\n",
      "0\n",
      "0\n",
      "6\n",
      "                 Marx    Engels\n",
      "Marx/Engels  0.482471  0.517529\n",
      "                 Marx    Engels\n",
      "Marx/Engels  0.647046  0.352954\n",
      "                 Marx    Engels\n",
      "Marx/Engels  0.685759  0.314241\n",
      "0\n",
      "0\n",
      "0\n",
      "7\n",
      "                 Marx    Engels\n",
      "Marx/Engels  0.442072  0.557928\n",
      "                 Marx    Engels\n",
      "Marx/Engels  0.647108  0.352892\n",
      "                Marx   Engels\n",
      "Marx/Engels  0.64641  0.35359\n",
      "0\n",
      "0\n",
      "0\n",
      "8\n",
      "                 Marx    Engels\n",
      "Marx/Engels  0.461883  0.538117\n",
      "                Marx     Engels\n",
      "Marx/Engels  0.95281  0.0471901\n",
      "            Marx       Engels\n",
      "Marx/Engels    1  6.04739e-20\n",
      "0\n",
      "0\n",
      "0\n",
      "9\n",
      "                 Marx    Engels\n",
      "Marx/Engels  0.426487  0.573513\n",
      "                Marx   Engels\n",
      "Marx/Engels  0.59808  0.40192\n",
      "            Marx       Engels\n",
      "Marx/Engels    1  1.77504e-20\n",
      "0\n",
      "0\n",
      "0\n",
      "10\n",
      "                 Marx    Engels\n",
      "Marx/Engels  0.439288  0.560712\n",
      "                 Marx    Engels\n",
      "Marx/Engels  0.846372  0.153628\n",
      "                 Marx    Engels\n",
      "Marx/Engels  0.520584  0.479416\n"
     ]
    }
   ],
   "source": [
    "tracks=[]\n",
    "tracksstop=[]\n",
    "tracksstop2=[]\n",
    "for i in range(10):\n",
    "    marx2=doubleUpdate(i+1,marx.drop(\"Author\",axis=1).drop(\"Marx3\"))[1].T\n",
    "    marxcolumns=[]\n",
    "    for j in range(i+1):\n",
    "        marxcolumns.append(\"Marx\"+str(j+1))\n",
    "    marx2.index=marxcolumns\n",
    "    engels2=doubleUpdate(i+1,engels.drop(\"Author\",axis=1))[1].T\n",
    "    engelscolumns=[]\n",
    "    for j in range(i+1):\n",
    "        engelscolumns.append(\"Engels\"+str(j+1))\n",
    "    engels2.index=engelscolumns\n",
    "    al=marx2.append(engels2)\n",
    "    al_nu=al.replace(0,.000000001)\n",
    "    #print(al_nu)\n",
    "    result=EM_Algo_LA((i+1)*2,al_nu,unknowns)\n",
    "    resultstop=EM_Algo_LA((i+1)*2,al_nu[stopwords],unknowns[stopwords])\n",
    "    resultstop2=EM_Algo_LA((i+1)*2,al_nu[stopwords2],unknowns[stopwords2])\n",
    "    result.index=al_nu.index\n",
    "    resultstop.index=al_nu.index\n",
    "    resultstop2.index=al_nu.index\n",
    "    result=result.T\n",
    "    resultstop=resultstop.T\n",
    "    resultstop2=resultstop2.T\n",
    "    result['Marx']=0\n",
    "    result['Engels']=0\n",
    "    resultstop['Marx']=0\n",
    "    resultstop['Engels']=0\n",
    "    resultstop2['Marx']=0\n",
    "    resultstop2['Engels']=0\n",
    "    for j in range(i+1):\n",
    "        result['Marx']=result['Marx']+result['Marx'+str(j+1)]\n",
    "        result['Engels']=result['Engels']+result['Engels'+str(j+1)]\n",
    "        resultstop['Marx']=resultstop['Marx']+resultstop['Marx'+str(j+1)]\n",
    "        resultstop['Engels']=resultstop['Engels']+resultstop['Engels'+str(j+1)]\n",
    "        resultstop2['Marx']=resultstop2['Marx']+resultstop2['Marx'+str(j+1)]\n",
    "        resultstop2['Engels']=resultstop2['Engels']+resultstop2['Engels'+str(j+1)]\n",
    "    print(i+1)\n",
    "    print(result[[\"Marx\",\"Engels\"]])\n",
    "    tracks.append(result[[\"Marx\",\"Engels\"]])\n",
    "    print(resultstop[[\"Marx\",\"Engels\"]])\n",
    "    tracksstop.append(resultstop[[\"Marx\",\"Engels\"]])\n",
    "    print(resultstop2[[\"Marx\",\"Engels\"]])\n",
    "    tracksstop2.append(resultstop2[[\"Marx\",\"Engels\"]])"
   ]
  },
  {
   "cell_type": "code",
   "execution_count": 35,
   "metadata": {
    "collapsed": false
   },
   "outputs": [
    {
     "data": {
      "text/plain": [
       "<matplotlib.axes._subplots.AxesSubplot at 0x7f4550636588>"
      ]
     },
     "execution_count": 35,
     "metadata": {},
     "output_type": "execute_result"
    },
    {
     "data": {
      "image/png": "[encoded data removed]",
      "text/plain": [
       "<matplotlib.figure.Figure at 0x7f45543a75f8>"
      ]
     },
     "metadata": {},
     "output_type": "display_data"
    }
   ],
   "source": [
    "data=[]\n",
    "engy=[]\n",
    "marxy=[]\n",
    "for j in range(len(tracksstop)):\n",
    "    current=[tracksstop[j]['Engels']['Marx/Engels'],tracksstop[j]['Marx']['Marx/Engels']]\n",
    "    data.append(current)\n",
    "    engy.append(tracksstop[j]['Marx'])\n",
    "    marxy.append(tracksstop[j]['Marx'])\n",
    "pd.DataFrame(data,columns=[\"Engels\",\"Marx\"]).plot.line()"
   ]
  },
  {
   "cell_type": "code",
   "execution_count": 36,
   "metadata": {
    "collapsed": false
   },
   "outputs": [
    {
     "data": {
      "text/plain": [
       "<matplotlib.axes._subplots.AxesSubplot at 0x7f45504c04e0>"
      ]
     },
     "execution_count": 36,
     "metadata": {},
     "output_type": "execute_result"
    },
    {
     "data": {
      "image/png": "[encoded data removed]",
      "text/plain": [
       "<matplotlib.figure.Figure at 0x7f454fc51be0>"
      ]
     },
     "metadata": {},
     "output_type": "display_data"
    }
   ],
   "source": [
    "data=[]\n",
    "engy=[]\n",
    "marxy=[]\n",
    "for j in range(len(tracksstop)):\n",
    "    current=[tracks[j]['Engels']['Marx/Engels'],tracks[j]['Marx']['Marx/Engels']]\n",
    "    data.append(current)\n",
    "    engy.append(tracks[j]['Marx'])\n",
    "    marxy.append(tracks[j]['Marx'])\n",
    "pd.DataFrame(data,columns=[\"Engels\",\"Marx\"]).plot.line(ylim=[0,1])\n"
   ]
  },
  {
   "cell_type": "code",
   "execution_count": 37,
   "metadata": {
    "collapsed": false
   },
   "outputs": [
    {
     "data": {
      "text/plain": [
       "<matplotlib.axes._subplots.AxesSubplot at 0x7f45515585f8>"
      ]
     },
     "execution_count": 37,
     "metadata": {},
     "output_type": "execute_result"
    },
    {
     "data": {
      "image/png": "[encoded data removed]",
      "text/plain": [
       "<matplotlib.figure.Figure at 0x7f4553341d30>"
      ]
     },
     "metadata": {},
     "output_type": "display_data"
    }
   ],
   "source": [
    "data=[]\n",
    "engy=[]\n",
    "marxy=[]\n",
    "for j in range(len(tracksstop)):\n",
    "    current=[tracksstop2[j]['Engels']['Marx/Engels'],tracksstop2[j]['Marx']['Marx/Engels']]\n",
    "    data.append(current)\n",
    "    engy.append(tracksstop2[j]['Marx'])\n",
    "    marxy.append(tracksstop2[j]['Marx'])\n",
    "pd.DataFrame(data,columns=[\"Engels\",\"Marx\"]).plot.line()"
   ]
  },
  {
   "cell_type": "code",
   "execution_count": null,
   "metadata": {
    "collapsed": true
   },
   "outputs": [],
   "source": [
    "# leave one out t"
   ]
  }
 ],
 "metadata": {
  "kernelspec": {
   "display_name": "Python 3",
   "language": "python",
   "name": "python3"
  },
  "language_info": {
   "codemirror_mode": {
    "name": "ipython",
    "version": 3
   },
   "file_extension": ".py",
   "mimetype": "text/x-python",
   "name": "python",
   "nbconvert_exporter": "python",
   "pygments_lexer": "ipython3",
   "version": "3.5.2"
  }
 },
 "nbformat": 4,
 "nbformat_minor": 2
}
